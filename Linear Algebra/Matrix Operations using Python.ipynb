{
 "cells": [
  {
   "cell_type": "markdown",
   "id": "1c2c20dc",
   "metadata": {
    "papermill": {
     "duration": 0.016715,
     "end_time": "2023-11-02T16:06:43.781426",
     "exception": false,
     "start_time": "2023-11-02T16:06:43.764711",
     "status": "completed"
    },
    "tags": []
   },
   "source": [
    "<h1 align=\"center\" style=\"color:blue;\">Matrix Operation using Python</h1>"
   ]
  },
  {
   "cell_type": "markdown",
   "id": "98e77432",
   "metadata": {
    "papermill": {
     "duration": 0.016464,
     "end_time": "2023-11-02T16:06:43.813963",
     "exception": false,
     "start_time": "2023-11-02T16:06:43.797499",
     "status": "completed"
    },
    "tags": []
   },
   "source": [
    "## Importing Libraries"
   ]
  },
  {
   "cell_type": "code",
   "execution_count": 1,
   "id": "8b3554ea",
   "metadata": {
    "execution": {
     "iopub.execute_input": "2023-11-02T16:06:43.849056Z",
     "iopub.status.busy": "2023-11-02T16:06:43.848226Z",
     "iopub.status.idle": "2023-11-02T16:06:43.861645Z",
     "shell.execute_reply": "2023-11-02T16:06:43.860610Z"
    },
    "papermill": {
     "duration": 0.033953,
     "end_time": "2023-11-02T16:06:43.864390",
     "exception": false,
     "start_time": "2023-11-02T16:06:43.830437",
     "status": "completed"
    },
    "tags": []
   },
   "outputs": [],
   "source": [
    "import numpy as np"
   ]
  },
  {
   "cell_type": "markdown",
   "id": "e7d04b2c",
   "metadata": {
    "papermill": {
     "duration": 0.016188,
     "end_time": "2023-11-02T16:06:43.896676",
     "exception": false,
     "start_time": "2023-11-02T16:06:43.880488",
     "status": "completed"
    },
    "tags": []
   },
   "source": [
    "## What is Matrix?"
   ]
  },
  {
   "cell_type": "markdown",
   "id": "1c3fb822",
   "metadata": {
    "papermill": {
     "duration": 0.015619,
     "end_time": "2023-11-02T16:06:43.928568",
     "exception": false,
     "start_time": "2023-11-02T16:06:43.912949",
     "status": "completed"
    },
    "tags": []
   },
   "source": [
    "- **A rectangular array of numbers, symbols, or characters is called Matrix.**\n",
    "- **Matrices are identified by their order. The order of the matrices is given in the form of number of rows ⨯ number of columns.**\n",
    "- **A Matrix is represented as `[A]m⨯n` where A is the matrix, m is the number of rows and n is the number of columns.**"
   ]
  },
  {
   "attachments": {
    "260b08b7-3ed7-4b33-b2d4-83c8bdb757cb.png": {
     "image/png": "[encoded data removed]"
    }
   },
   "cell_type": "markdown",
   "id": "0b762af6",
   "metadata": {
    "papermill": {
     "duration": 0.015995,
     "end_time": "2023-11-02T16:06:43.960591",
     "exception": false,
     "start_time": "2023-11-02T16:06:43.944596",
     "status": "completed"
    },
    "tags": []
   },
   "source": [
    "![images.png](attachment:260b08b7-3ed7-4b33-b2d4-83c8bdb757cb.png)"
   ]
  },
  {
   "cell_type": "markdown",
   "id": "a732d361",
   "metadata": {
    "papermill": {
     "duration": 0.0159,
     "end_time": "2023-11-02T16:06:43.993665",
     "exception": false,
     "start_time": "2023-11-02T16:06:43.977765",
     "status": "completed"
    },
    "tags": []
   },
   "source": [
    "## Creating Matrix by using List of List"
   ]
  },
  {
   "cell_type": "code",
   "execution_count": 2,
   "id": "c3a77e2b",
   "metadata": {
    "execution": {
     "iopub.execute_input": "2023-11-02T16:06:44.029027Z",
     "iopub.status.busy": "2023-11-02T16:06:44.027899Z",
     "iopub.status.idle": "2023-11-02T16:06:44.034862Z",
     "shell.execute_reply": "2023-11-02T16:06:44.033623Z"
    },
    "papermill": {
     "duration": 0.02751,
     "end_time": "2023-11-02T16:06:44.037698",
     "exception": false,
     "start_time": "2023-11-02T16:06:44.010188",
     "status": "completed"
    },
    "tags": []
   },
   "outputs": [
    {
     "name": "stdout",
     "output_type": "stream",
     "text": [
      "Matrix A : [[1, 2, 3], [4, 5, 6], [7, 8, 9]]\n"
     ]
    }
   ],
   "source": [
    "A = [[1,2,3],[4,5,6],[7,8,9]] # Using List of List or Nested List\n",
    "print(f\"Matrix A : {A}\")"
   ]
  },
  {
   "cell_type": "code",
   "execution_count": 3,
   "id": "b203a6db",
   "metadata": {
    "execution": {
     "iopub.execute_input": "2023-11-02T16:06:44.074593Z",
     "iopub.status.busy": "2023-11-02T16:06:44.074140Z",
     "iopub.status.idle": "2023-11-02T16:06:44.081205Z",
     "shell.execute_reply": "2023-11-02T16:06:44.079760Z"
    },
    "papermill": {
     "duration": 0.02864,
     "end_time": "2023-11-02T16:06:44.083717",
     "exception": false,
     "start_time": "2023-11-02T16:06:44.055077",
     "status": "completed"
    },
    "tags": []
   },
   "outputs": [
    {
     "name": "stdout",
     "output_type": "stream",
     "text": [
      "Matrix B : [[11, 12, 13], [14, 15, 16], [17, 18, 19]]\n"
     ]
    }
   ],
   "source": [
    "B = [[11,12,13],[14,15,16],[17,18,19]]\n",
    "print(f\"Matrix B : {B}\")"
   ]
  },
  {
   "cell_type": "markdown",
   "id": "697f1d72",
   "metadata": {
    "papermill": {
     "duration": 0.016585,
     "end_time": "2023-11-02T16:06:44.117358",
     "exception": false,
     "start_time": "2023-11-02T16:06:44.100773",
     "status": "completed"
    },
    "tags": []
   },
   "source": [
    "## Creating Matrix by using NumPy Array Method"
   ]
  },
  {
   "cell_type": "code",
   "execution_count": 4,
   "id": "21fb26ef",
   "metadata": {
    "execution": {
     "iopub.execute_input": "2023-11-02T16:06:44.153037Z",
     "iopub.status.busy": "2023-11-02T16:06:44.152274Z",
     "iopub.status.idle": "2023-11-02T16:06:44.164883Z",
     "shell.execute_reply": "2023-11-02T16:06:44.163631Z"
    },
    "papermill": {
     "duration": 0.034168,
     "end_time": "2023-11-02T16:06:44.168386",
     "exception": false,
     "start_time": "2023-11-02T16:06:44.134218",
     "status": "completed"
    },
    "tags": []
   },
   "outputs": [
    {
     "data": {
      "text/plain": [
       "array([[1, 2, 3],\n",
       "       [4, 5, 6],\n",
       "       [7, 8, 9]])"
      ]
     },
     "execution_count": 4,
     "metadata": {},
     "output_type": "execute_result"
    }
   ],
   "source": [
    "np.array([[1,2,3],[4,5,6],[7,8,9]]) # Using np.array Method"
   ]
  },
  {
   "cell_type": "markdown",
   "id": "116d124d",
   "metadata": {
    "papermill": {
     "duration": 0.084243,
     "end_time": "2023-11-02T16:06:44.269723",
     "exception": false,
     "start_time": "2023-11-02T16:06:44.185480",
     "status": "completed"
    },
    "tags": []
   },
   "source": [
    "## Accessing Elements of Matrix"
   ]
  },
  {
   "cell_type": "code",
   "execution_count": 5,
   "id": "f4687aa0",
   "metadata": {
    "execution": {
     "iopub.execute_input": "2023-11-02T16:06:44.308254Z",
     "iopub.status.busy": "2023-11-02T16:06:44.307408Z",
     "iopub.status.idle": "2023-11-02T16:06:44.314610Z",
     "shell.execute_reply": "2023-11-02T16:06:44.312998Z"
    },
    "papermill": {
     "duration": 0.02903,
     "end_time": "2023-11-02T16:06:44.317540",
     "exception": false,
     "start_time": "2023-11-02T16:06:44.288510",
     "status": "completed"
    },
    "tags": []
   },
   "outputs": [
    {
     "name": "stdout",
     "output_type": "stream",
     "text": [
      "Element at 1st Row and 1st Column of Matrix A : 1\n"
     ]
    }
   ],
   "source": [
    "print(f\"Element at 1st Row and 1st Column of Matrix A : {A[0][0]}\")"
   ]
  },
  {
   "cell_type": "code",
   "execution_count": 6,
   "id": "b26986e9",
   "metadata": {
    "execution": {
     "iopub.execute_input": "2023-11-02T16:06:44.355350Z",
     "iopub.status.busy": "2023-11-02T16:06:44.354914Z",
     "iopub.status.idle": "2023-11-02T16:06:44.361465Z",
     "shell.execute_reply": "2023-11-02T16:06:44.360156Z"
    },
    "papermill": {
     "duration": 0.028136,
     "end_time": "2023-11-02T16:06:44.364397",
     "exception": false,
     "start_time": "2023-11-02T16:06:44.336261",
     "status": "completed"
    },
    "tags": []
   },
   "outputs": [
    {
     "name": "stdout",
     "output_type": "stream",
     "text": [
      "Element at 3rd Row and 3rd Column of Matrix B : 19\n"
     ]
    }
   ],
   "source": [
    "print(f\"Element at 3rd Row and 3rd Column of Matrix B : {B[2][2]}\")"
   ]
  },
  {
   "cell_type": "markdown",
   "id": "c235a434",
   "metadata": {
    "papermill": {
     "duration": 0.016144,
     "end_time": "2023-11-02T16:06:44.397059",
     "exception": false,
     "start_time": "2023-11-02T16:06:44.380915",
     "status": "completed"
    },
    "tags": []
   },
   "source": [
    "## Order of Matrix"
   ]
  },
  {
   "cell_type": "markdown",
   "id": "0f7ac92c",
   "metadata": {
    "papermill": {
     "duration": 0.018693,
     "end_time": "2023-11-02T16:06:44.432217",
     "exception": false,
     "start_time": "2023-11-02T16:06:44.413524",
     "status": "completed"
    },
    "tags": []
   },
   "source": [
    "- **Order of Matrix tells about the number of rows and columns present in a matrix.**\n",
    "- **Order of a matrix is represented as the number of rows times the number of columns.**\n",
    "- **Let’s say if a matrix has 4 rows and 5 columns then the order of the matrix will be 4⨯5.**\n",
    "- **First number in the order signifies the number of rows present in the matrix and the second number signifies the number of columns in the matrix.**"
   ]
  },
  {
   "cell_type": "code",
   "execution_count": 7,
   "id": "f1695c84",
   "metadata": {
    "execution": {
     "iopub.execute_input": "2023-11-02T16:06:44.471219Z",
     "iopub.status.busy": "2023-11-02T16:06:44.470308Z",
     "iopub.status.idle": "2023-11-02T16:06:44.476748Z",
     "shell.execute_reply": "2023-11-02T16:06:44.475196Z"
    },
    "papermill": {
     "duration": 0.030681,
     "end_time": "2023-11-02T16:06:44.480030",
     "exception": false,
     "start_time": "2023-11-02T16:06:44.449349",
     "status": "completed"
    },
    "tags": []
   },
   "outputs": [
    {
     "name": "stdout",
     "output_type": "stream",
     "text": [
      "Order of Matrix A : (3, 3)\n"
     ]
    }
   ],
   "source": [
    "order = np.shape(A)\n",
    "print(f\"Order of Matrix A : {order}\")"
   ]
  },
  {
   "cell_type": "code",
   "execution_count": 8,
   "id": "b492cdda",
   "metadata": {
    "execution": {
     "iopub.execute_input": "2023-11-02T16:06:44.518175Z",
     "iopub.status.busy": "2023-11-02T16:06:44.517694Z",
     "iopub.status.idle": "2023-11-02T16:06:44.523446Z",
     "shell.execute_reply": "2023-11-02T16:06:44.522542Z"
    },
    "papermill": {
     "duration": 0.028285,
     "end_time": "2023-11-02T16:06:44.526580",
     "exception": false,
     "start_time": "2023-11-02T16:06:44.498295",
     "status": "completed"
    },
    "tags": []
   },
   "outputs": [
    {
     "name": "stdout",
     "output_type": "stream",
     "text": [
      "Order of Matrix B : (3, 3)\n"
     ]
    }
   ],
   "source": [
    "order = np.shape(B)\n",
    "print(f\"Order of Matrix B : {order}\")"
   ]
  },
  {
   "cell_type": "markdown",
   "id": "4ecf478c",
   "metadata": {
    "papermill": {
     "duration": 0.017688,
     "end_time": "2023-11-02T16:06:44.562312",
     "exception": false,
     "start_time": "2023-11-02T16:06:44.544624",
     "status": "completed"
    },
    "tags": []
   },
   "source": [
    "## Adding Two Matrices"
   ]
  },
  {
   "cell_type": "markdown",
   "id": "6b67a0fb",
   "metadata": {
    "papermill": {
     "duration": 0.019297,
     "end_time": "2023-11-02T16:06:44.598373",
     "exception": false,
     "start_time": "2023-11-02T16:06:44.579076",
     "status": "completed"
    },
    "tags": []
   },
   "source": [
    "- **In addition of matrices, the elements of two matrices are added to yield a matrix that contains elements obtained as the sum of two matrices.**\n",
    "- **The addition of matrices is performed between two matrices of the same order.**"
   ]
  },
  {
   "cell_type": "code",
   "execution_count": 9,
   "id": "951b3937",
   "metadata": {
    "execution": {
     "iopub.execute_input": "2023-11-02T16:06:44.635237Z",
     "iopub.status.busy": "2023-11-02T16:06:44.634796Z",
     "iopub.status.idle": "2023-11-02T16:06:44.645583Z",
     "shell.execute_reply": "2023-11-02T16:06:44.644211Z"
    },
    "papermill": {
     "duration": 0.032409,
     "end_time": "2023-11-02T16:06:44.648459",
     "exception": false,
     "start_time": "2023-11-02T16:06:44.616050",
     "status": "completed"
    },
    "tags": []
   },
   "outputs": [
    {
     "name": "stdout",
     "output_type": "stream",
     "text": [
      "Sum : [[12 14 16]\n",
      " [18 20 22]\n",
      " [24 26 28]]\n"
     ]
    }
   ],
   "source": [
    "sum = np.array(A) + np.array(B)\n",
    "print(f\"Sum : {sum}\")"
   ]
  },
  {
   "cell_type": "markdown",
   "id": "e7445e52",
   "metadata": {
    "papermill": {
     "duration": 0.0184,
     "end_time": "2023-11-02T16:06:44.684369",
     "exception": false,
     "start_time": "2023-11-02T16:06:44.665969",
     "status": "completed"
    },
    "tags": []
   },
   "source": [
    "## Sum of all Elements of Matrix"
   ]
  },
  {
   "cell_type": "code",
   "execution_count": 10,
   "id": "98f3d9d2",
   "metadata": {
    "execution": {
     "iopub.execute_input": "2023-11-02T16:06:44.722481Z",
     "iopub.status.busy": "2023-11-02T16:06:44.720665Z",
     "iopub.status.idle": "2023-11-02T16:06:44.728717Z",
     "shell.execute_reply": "2023-11-02T16:06:44.727315Z"
    },
    "papermill": {
     "duration": 0.029481,
     "end_time": "2023-11-02T16:06:44.731288",
     "exception": false,
     "start_time": "2023-11-02T16:06:44.701807",
     "status": "completed"
    },
    "tags": []
   },
   "outputs": [
    {
     "name": "stdout",
     "output_type": "stream",
     "text": [
      "Sum of all Elements of A is : 45\n"
     ]
    }
   ],
   "source": [
    "sum_elements = np.sum(A)\n",
    "print(f\"Sum of all Elements of A is : {sum_elements}\")"
   ]
  },
  {
   "cell_type": "markdown",
   "id": "6177eab7",
   "metadata": {
    "papermill": {
     "duration": 0.017006,
     "end_time": "2023-11-02T16:06:44.766158",
     "exception": false,
     "start_time": "2023-11-02T16:06:44.749152",
     "status": "completed"
    },
    "tags": []
   },
   "source": [
    "## Sum of all Elements of Matrix by Axis (0=Column & 1=Row)"
   ]
  },
  {
   "cell_type": "code",
   "execution_count": 11,
   "id": "61c98bff",
   "metadata": {
    "execution": {
     "iopub.execute_input": "2023-11-02T16:06:44.802975Z",
     "iopub.status.busy": "2023-11-02T16:06:44.802325Z",
     "iopub.status.idle": "2023-11-02T16:06:44.808229Z",
     "shell.execute_reply": "2023-11-02T16:06:44.806887Z"
    },
    "papermill": {
     "duration": 0.027008,
     "end_time": "2023-11-02T16:06:44.810487",
     "exception": false,
     "start_time": "2023-11-02T16:06:44.783479",
     "status": "completed"
    },
    "tags": []
   },
   "outputs": [
    {
     "name": "stdout",
     "output_type": "stream",
     "text": [
      "Sum of Elements of A by Column : [12 15 18]\n"
     ]
    }
   ],
   "source": [
    "sum_elements_col = np.sum(A,axis=0) # Column Wise\n",
    "print(f\"Sum of Elements of A by Column : {sum_elements_col}\")"
   ]
  },
  {
   "cell_type": "code",
   "execution_count": 12,
   "id": "1ca4e7b9",
   "metadata": {
    "execution": {
     "iopub.execute_input": "2023-11-02T16:06:44.847809Z",
     "iopub.status.busy": "2023-11-02T16:06:44.846952Z",
     "iopub.status.idle": "2023-11-02T16:06:44.854007Z",
     "shell.execute_reply": "2023-11-02T16:06:44.852333Z"
    },
    "papermill": {
     "duration": 0.028867,
     "end_time": "2023-11-02T16:06:44.856770",
     "exception": false,
     "start_time": "2023-11-02T16:06:44.827903",
     "status": "completed"
    },
    "tags": []
   },
   "outputs": [
    {
     "name": "stdout",
     "output_type": "stream",
     "text": [
      "Sum of Elements of A by Row : [ 6 15 24]\n"
     ]
    }
   ],
   "source": [
    "sum_elements_row = np.sum(A,axis=1) # Row Wise\n",
    "print(f\"Sum of Elements of A by Row : {sum_elements_row}\")"
   ]
  },
  {
   "cell_type": "markdown",
   "id": "163e0654",
   "metadata": {
    "papermill": {
     "duration": 0.016771,
     "end_time": "2023-11-02T16:06:44.891023",
     "exception": false,
     "start_time": "2023-11-02T16:06:44.874252",
     "status": "completed"
    },
    "tags": []
   },
   "source": [
    "## Subtracting Two Matrices"
   ]
  },
  {
   "cell_type": "markdown",
   "id": "7bf4265b",
   "metadata": {
    "papermill": {
     "duration": 0.016993,
     "end_time": "2023-11-02T16:06:44.925684",
     "exception": false,
     "start_time": "2023-11-02T16:06:44.908691",
     "status": "completed"
    },
    "tags": []
   },
   "source": [
    "- **Subtraction of Matrices is the difference between the elements of two matrices of the same order.**\n",
    "- **The subtraction of two matrices can be represented in terms of the addition of two matrices.**\n",
    "- **Let’s say we have to subtract matrix B from matrix A then we can write A – B. We can also rewrite it as A + (-B).**"
   ]
  },
  {
   "cell_type": "code",
   "execution_count": 13,
   "id": "ccac1516",
   "metadata": {
    "execution": {
     "iopub.execute_input": "2023-11-02T16:06:44.962881Z",
     "iopub.status.busy": "2023-11-02T16:06:44.962323Z",
     "iopub.status.idle": "2023-11-02T16:06:44.969235Z",
     "shell.execute_reply": "2023-11-02T16:06:44.967643Z"
    },
    "papermill": {
     "duration": 0.029383,
     "end_time": "2023-11-02T16:06:44.972345",
     "exception": false,
     "start_time": "2023-11-02T16:06:44.942962",
     "status": "completed"
    },
    "tags": []
   },
   "outputs": [
    {
     "name": "stdout",
     "output_type": "stream",
     "text": [
      "Difference : [[-10 -10 -10]\n",
      " [-10 -10 -10]\n",
      " [-10 -10 -10]]\n"
     ]
    }
   ],
   "source": [
    "sub = np.array(A) + (-np.array(B))\n",
    "print(f\"Difference : {sub}\")"
   ]
  },
  {
   "cell_type": "code",
   "execution_count": 14,
   "id": "72f7cb0c",
   "metadata": {
    "execution": {
     "iopub.execute_input": "2023-11-02T16:06:45.009209Z",
     "iopub.status.busy": "2023-11-02T16:06:45.008718Z",
     "iopub.status.idle": "2023-11-02T16:06:45.016402Z",
     "shell.execute_reply": "2023-11-02T16:06:45.014679Z"
    },
    "papermill": {
     "duration": 0.029899,
     "end_time": "2023-11-02T16:06:45.019451",
     "exception": false,
     "start_time": "2023-11-02T16:06:44.989552",
     "status": "completed"
    },
    "tags": []
   },
   "outputs": [
    {
     "name": "stdout",
     "output_type": "stream",
     "text": [
      "Difference : [[-10 -10 -10]\n",
      " [-10 -10 -10]\n",
      " [-10 -10 -10]]\n"
     ]
    }
   ],
   "source": [
    "sub = np.array(A) - np.array(B)\n",
    "print(f\"Difference : {sub}\")"
   ]
  },
  {
   "cell_type": "markdown",
   "id": "a587deda",
   "metadata": {
    "papermill": {
     "duration": 0.017494,
     "end_time": "2023-11-02T16:06:45.055173",
     "exception": false,
     "start_time": "2023-11-02T16:06:45.037679",
     "status": "completed"
    },
    "tags": []
   },
   "source": [
    "## Scalar Product of a Matrix"
   ]
  },
  {
   "cell_type": "markdown",
   "id": "42b8d9f9",
   "metadata": {
    "papermill": {
     "duration": 0.017012,
     "end_time": "2023-11-02T16:06:45.089849",
     "exception": false,
     "start_time": "2023-11-02T16:06:45.072837",
     "status": "completed"
    },
    "tags": []
   },
   "source": [
    "- **Scalar Multiplication of matrices refers to the multiplication of each term of a matrix with a scalar term.**\n",
    "- **If a scalar let’s ‘k’ is multiplied by a matrix then the equivalent matrix will contain elements equal to the product of the scalar and the element of the original matrix.**"
   ]
  },
  {
   "cell_type": "code",
   "execution_count": 15,
   "id": "f4500e98",
   "metadata": {
    "execution": {
     "iopub.execute_input": "2023-11-02T16:06:45.127325Z",
     "iopub.status.busy": "2023-11-02T16:06:45.126828Z",
     "iopub.status.idle": "2023-11-02T16:06:45.132580Z",
     "shell.execute_reply": "2023-11-02T16:06:45.131623Z"
    },
    "papermill": {
     "duration": 0.028441,
     "end_time": "2023-11-02T16:06:45.135685",
     "exception": false,
     "start_time": "2023-11-02T16:06:45.107244",
     "status": "completed"
    },
    "tags": []
   },
   "outputs": [
    {
     "name": "stdout",
     "output_type": "stream",
     "text": [
      "Scalar Product : [[ 5 10 15]\n",
      " [20 25 30]\n",
      " [35 40 45]]\n"
     ]
    }
   ],
   "source": [
    "a = 5\n",
    "s_prod = a*np.array(A)\n",
    "print(f\"Scalar Product : {s_prod}\")"
   ]
  },
  {
   "cell_type": "markdown",
   "id": "1eb5b014",
   "metadata": {
    "papermill": {
     "duration": 0.019156,
     "end_time": "2023-11-02T16:06:45.172842",
     "exception": false,
     "start_time": "2023-11-02T16:06:45.153686",
     "status": "completed"
    },
    "tags": []
   },
   "source": [
    "## Multiplication of Two Matrices"
   ]
  },
  {
   "cell_type": "markdown",
   "id": "627c6ba9",
   "metadata": {
    "papermill": {
     "duration": 0.019141,
     "end_time": "2023-11-02T16:06:45.209594",
     "exception": false,
     "start_time": "2023-11-02T16:06:45.190453",
     "status": "completed"
    },
    "tags": []
   },
   "source": [
    "- **In the multiplication of matrices, two matrices are multiplied to yield a single equivalent matrix.**\n",
    "- **The multiplication is performed in the manner that the elements of the row of the first matrix multiply with the elements of the columns of the second matrix.**\n",
    "- **If a matrix `[A]i⨯j` is multiplied with matrix `[B]j⨯k` then the product is given as `[AB]i⨯k`.**"
   ]
  },
  {
   "cell_type": "code",
   "execution_count": 16,
   "id": "6bdaa830",
   "metadata": {
    "execution": {
     "iopub.execute_input": "2023-11-02T16:06:45.251280Z",
     "iopub.status.busy": "2023-11-02T16:06:45.250822Z",
     "iopub.status.idle": "2023-11-02T16:06:45.258320Z",
     "shell.execute_reply": "2023-11-02T16:06:45.256992Z"
    },
    "papermill": {
     "duration": 0.031542,
     "end_time": "2023-11-02T16:06:45.260764",
     "exception": false,
     "start_time": "2023-11-02T16:06:45.229222",
     "status": "completed"
    },
    "tags": []
   },
   "outputs": [
    {
     "name": "stdout",
     "output_type": "stream",
     "text": [
      "Multiplication : [[ 90  96 102]\n",
      " [216 231 246]\n",
      " [342 366 390]]\n"
     ]
    }
   ],
   "source": [
    "mul = np.dot(A,B)\n",
    "print(f\"Multiplication : {mul}\")"
   ]
  },
  {
   "cell_type": "markdown",
   "id": "b5f4c6c2",
   "metadata": {
    "papermill": {
     "duration": 0.01853,
     "end_time": "2023-11-02T16:06:45.297691",
     "exception": false,
     "start_time": "2023-11-02T16:06:45.279161",
     "status": "completed"
    },
    "tags": []
   },
   "source": [
    "## Transpose of a Matrix"
   ]
  },
  {
   "cell_type": "markdown",
   "id": "0664fe74",
   "metadata": {
    "papermill": {
     "duration": 0.017199,
     "end_time": "2023-11-02T16:06:45.333008",
     "exception": false,
     "start_time": "2023-11-02T16:06:45.315809",
     "status": "completed"
    },
    "tags": []
   },
   "source": [
    "- **Transpose of Matrix is basically the rearrangement of row elements in column and column elements in a row to yield an equivalent matrix.**\n",
    "- **A matrix in which the elements of the row of the original matrix are arranged in columns or vice versa is called Transpose Matrix.**\n",
    "- **The transpose matrix is represented as AT. if `A = [aij]mxn` , then `AT = [bij]nxm` where `bij = aji.`**"
   ]
  },
  {
   "cell_type": "code",
   "execution_count": 17,
   "id": "e3a77e85",
   "metadata": {
    "execution": {
     "iopub.execute_input": "2023-11-02T16:06:45.370858Z",
     "iopub.status.busy": "2023-11-02T16:06:45.370362Z",
     "iopub.status.idle": "2023-11-02T16:06:45.375820Z",
     "shell.execute_reply": "2023-11-02T16:06:45.375022Z"
    },
    "papermill": {
     "duration": 0.02777,
     "end_time": "2023-11-02T16:06:45.378722",
     "exception": false,
     "start_time": "2023-11-02T16:06:45.350952",
     "status": "completed"
    },
    "tags": []
   },
   "outputs": [
    {
     "name": "stdout",
     "output_type": "stream",
     "text": [
      "Transpose of A : [[1 4 7]\n",
      " [2 5 8]\n",
      " [3 6 9]]\n"
     ]
    }
   ],
   "source": [
    "trans = np.transpose(A)\n",
    "print(f\"Transpose of A : {trans}\")"
   ]
  },
  {
   "cell_type": "markdown",
   "id": "8e2e0fb2",
   "metadata": {
    "papermill": {
     "duration": 0.018119,
     "end_time": "2023-11-02T16:06:45.414476",
     "exception": false,
     "start_time": "2023-11-02T16:06:45.396357",
     "status": "completed"
    },
    "tags": []
   },
   "source": [
    "## Determinant of a Matrix"
   ]
  },
  {
   "cell_type": "markdown",
   "id": "216152e9",
   "metadata": {
    "papermill": {
     "duration": 0.017585,
     "end_time": "2023-11-02T16:06:45.451779",
     "exception": false,
     "start_time": "2023-11-02T16:06:45.434194",
     "status": "completed"
    },
    "tags": []
   },
   "source": [
    "- **The determinant of a matrix is a number associated with that square matrix.**\n",
    "- **The determinant of a matrix can only be calculated for a square matrix.**\n",
    "- **It is represented by |A|.**\n",
    "- **The determinant of a matrix is calculated by adding the product of the elements of a matrix with their cofactors.**"
   ]
  },
  {
   "cell_type": "code",
   "execution_count": 18,
   "id": "3e8af5c6",
   "metadata": {
    "execution": {
     "iopub.execute_input": "2023-11-02T16:06:45.491596Z",
     "iopub.status.busy": "2023-11-02T16:06:45.491109Z",
     "iopub.status.idle": "2023-11-02T16:06:45.499196Z",
     "shell.execute_reply": "2023-11-02T16:06:45.497611Z"
    },
    "papermill": {
     "duration": 0.030987,
     "end_time": "2023-11-02T16:06:45.501876",
     "exception": false,
     "start_time": "2023-11-02T16:06:45.470889",
     "status": "completed"
    },
    "tags": []
   },
   "outputs": [
    {
     "name": "stdout",
     "output_type": "stream",
     "text": [
      "Determinant of A : 0.0\n"
     ]
    }
   ],
   "source": [
    "determinant = np.linalg.det(A)\n",
    "print(f\"Determinant of A : {determinant}\")"
   ]
  },
  {
   "cell_type": "markdown",
   "id": "81b52522",
   "metadata": {
    "papermill": {
     "duration": 0.017513,
     "end_time": "2023-11-02T16:06:45.537383",
     "exception": false,
     "start_time": "2023-11-02T16:06:45.519870",
     "status": "completed"
    },
    "tags": []
   },
   "source": [
    "## Trace of a Matrix"
   ]
  },
  {
   "cell_type": "markdown",
   "id": "e641da36",
   "metadata": {
    "papermill": {
     "duration": 0.018757,
     "end_time": "2023-11-02T16:06:45.573918",
     "exception": false,
     "start_time": "2023-11-02T16:06:45.555161",
     "status": "completed"
    },
    "tags": []
   },
   "source": [
    "- **Trace of a Matrix is the sum of the diagonal elements of a square matrix.**\n",
    "- **Trace of a matrix is only found in the case of a square matrix because diagonal elements exist only in square matrices.**"
   ]
  },
  {
   "cell_type": "code",
   "execution_count": 19,
   "id": "2c32c4c1",
   "metadata": {
    "execution": {
     "iopub.execute_input": "2023-11-02T16:06:45.614248Z",
     "iopub.status.busy": "2023-11-02T16:06:45.613781Z",
     "iopub.status.idle": "2023-11-02T16:06:45.619697Z",
     "shell.execute_reply": "2023-11-02T16:06:45.618470Z"
    },
    "papermill": {
     "duration": 0.02985,
     "end_time": "2023-11-02T16:06:45.622626",
     "exception": false,
     "start_time": "2023-11-02T16:06:45.592776",
     "status": "completed"
    },
    "tags": []
   },
   "outputs": [
    {
     "name": "stdout",
     "output_type": "stream",
     "text": [
      "Trace of A : 15\n"
     ]
    }
   ],
   "source": [
    "trace = np.trace(A)\n",
    "print(f\"Trace of A : {trace}\")"
   ]
  },
  {
   "cell_type": "markdown",
   "id": "de1d2a77",
   "metadata": {
    "papermill": {
     "duration": 0.018021,
     "end_time": "2023-11-02T16:06:45.658810",
     "exception": false,
     "start_time": "2023-11-02T16:06:45.640789",
     "status": "completed"
    },
    "tags": []
   },
   "source": [
    "## Inverse of a Matrix"
   ]
  },
  {
   "cell_type": "markdown",
   "id": "cb0c2739",
   "metadata": {
    "papermill": {
     "duration": 0.01833,
     "end_time": "2023-11-02T16:06:45.695573",
     "exception": false,
     "start_time": "2023-11-02T16:06:45.677243",
     "status": "completed"
    },
    "tags": []
   },
   "source": [
    "- **A matrix is said to be an inverse of matrix ‘A’ if the matrix is raised to power -1 i.e. A-1.**\n",
    "- **The inverse is only calculated for a square matrix whose determinant is non-zero.**\n",
    "- **The formula for the inverse of a matrix is given as :**\n",
    "`A-1 = adj(A)/det(A) = (1/|A|)(Adj A)`\n",
    "- **where |A| should not be equal to zero, which means matrix A should be non-singular.**. "
   ]
  },
  {
   "cell_type": "code",
   "execution_count": 20,
   "id": "00336c5d",
   "metadata": {
    "execution": {
     "iopub.execute_input": "2023-11-02T16:06:45.734439Z",
     "iopub.status.busy": "2023-11-02T16:06:45.734009Z",
     "iopub.status.idle": "2023-11-02T16:06:45.750790Z",
     "shell.execute_reply": "2023-11-02T16:06:45.749275Z"
    },
    "papermill": {
     "duration": 0.039361,
     "end_time": "2023-11-02T16:06:45.753329",
     "exception": false,
     "start_time": "2023-11-02T16:06:45.713968",
     "status": "completed"
    },
    "tags": []
   },
   "outputs": [
    {
     "name": "stdout",
     "output_type": "stream",
     "text": [
      "Inverse of X : [[-0.18393782 -0.24481865  0.25129534]\n",
      " [ 0.20466321  0.13860104 -0.15284974]\n",
      " [ 0.01813472  0.09455959 -0.0388601 ]]\n"
     ]
    }
   ],
   "source": [
    "X = np.array([[7,11,2],[4,2,18],[13,10,19]])\n",
    "inverse = np.linalg.inv(X)\n",
    "print(f\"Inverse of X : {inverse}\")"
   ]
  },
  {
   "cell_type": "markdown",
   "id": "b202dc70",
   "metadata": {
    "papermill": {
     "duration": 0.018456,
     "end_time": "2023-11-02T16:06:45.790498",
     "exception": false,
     "start_time": "2023-11-02T16:06:45.772042",
     "status": "completed"
    },
    "tags": []
   },
   "source": [
    "## Flatten a Matrix"
   ]
  },
  {
   "cell_type": "code",
   "execution_count": 21,
   "id": "95598bc5",
   "metadata": {
    "execution": {
     "iopub.execute_input": "2023-11-02T16:06:45.830872Z",
     "iopub.status.busy": "2023-11-02T16:06:45.830441Z",
     "iopub.status.idle": "2023-11-02T16:06:45.838521Z",
     "shell.execute_reply": "2023-11-02T16:06:45.836911Z"
    },
    "papermill": {
     "duration": 0.031705,
     "end_time": "2023-11-02T16:06:45.841010",
     "exception": false,
     "start_time": "2023-11-02T16:06:45.809305",
     "status": "completed"
    },
    "tags": []
   },
   "outputs": [
    {
     "name": "stdout",
     "output_type": "stream",
     "text": [
      "Flatten Array of Matrix X : [ 7 11  2  4  2 18 13 10 19]\n"
     ]
    }
   ],
   "source": [
    "X = np.array([[7,11,2],[4,2,18],[13,10,19]]) # By using Flatten Method\n",
    "flat = X.flatten()\n",
    "print(f\"Flatten Array of Matrix X : {flat}\")"
   ]
  },
  {
   "cell_type": "code",
   "execution_count": 22,
   "id": "86c92879",
   "metadata": {
    "execution": {
     "iopub.execute_input": "2023-11-02T16:06:45.881112Z",
     "iopub.status.busy": "2023-11-02T16:06:45.880164Z",
     "iopub.status.idle": "2023-11-02T16:06:45.888187Z",
     "shell.execute_reply": "2023-11-02T16:06:45.886659Z"
    },
    "papermill": {
     "duration": 0.030987,
     "end_time": "2023-11-02T16:06:45.890612",
     "exception": false,
     "start_time": "2023-11-02T16:06:45.859625",
     "status": "completed"
    },
    "tags": []
   },
   "outputs": [
    {
     "name": "stdout",
     "output_type": "stream",
     "text": [
      "Flatten Array of Matrix X : [ 7 11  2  4  2 18 13 10 19]\n"
     ]
    }
   ],
   "source": [
    "X = np.array([[7,11,2],[4,2,18],[13,10,19]]) # By using Ravel Method\n",
    "ravel = X.ravel() \n",
    "print(f\"Flatten Array of Matrix X : {ravel}\")"
   ]
  },
  {
   "cell_type": "markdown",
   "id": "203bbdc4",
   "metadata": {
    "papermill": {
     "duration": 0.018175,
     "end_time": "2023-11-02T16:06:45.927630",
     "exception": false,
     "start_time": "2023-11-02T16:06:45.909455",
     "status": "completed"
    },
    "tags": []
   },
   "source": [
    "## Diagonal Matrix"
   ]
  },
  {
   "cell_type": "markdown",
   "id": "793aa9b1",
   "metadata": {
    "papermill": {
     "duration": 0.018092,
     "end_time": "2023-11-02T16:06:45.964226",
     "exception": false,
     "start_time": "2023-11-02T16:06:45.946134",
     "status": "completed"
    },
    "tags": []
   },
   "source": [
    "- **A square matrix in which the non-diagonal elements are zero is called a Diagonal Matrix.**"
   ]
  },
  {
   "cell_type": "code",
   "execution_count": 23,
   "id": "cbf49158",
   "metadata": {
    "execution": {
     "iopub.execute_input": "2023-11-02T16:06:46.003474Z",
     "iopub.status.busy": "2023-11-02T16:06:46.003009Z",
     "iopub.status.idle": "2023-11-02T16:06:46.009886Z",
     "shell.execute_reply": "2023-11-02T16:06:46.008388Z"
    },
    "papermill": {
     "duration": 0.030346,
     "end_time": "2023-11-02T16:06:46.012973",
     "exception": false,
     "start_time": "2023-11-02T16:06:45.982627",
     "status": "completed"
    },
    "tags": []
   },
   "outputs": [
    {
     "name": "stdout",
     "output_type": "stream",
     "text": [
      "Diagonal Matrix : [[5 0 0]\n",
      " [0 6 0]\n",
      " [0 0 7]]\n"
     ]
    }
   ],
   "source": [
    "dig = np.diag((5,6,7))\n",
    "print(f\"Diagonal Matrix : {dig}\")"
   ]
  },
  {
   "cell_type": "markdown",
   "id": "10fb025c",
   "metadata": {
    "papermill": {
     "duration": 0.019211,
     "end_time": "2023-11-02T16:06:46.050976",
     "exception": false,
     "start_time": "2023-11-02T16:06:46.031765",
     "status": "completed"
    },
    "tags": []
   },
   "source": [
    "## Identity Matrix"
   ]
  },
  {
   "cell_type": "markdown",
   "id": "468b1820",
   "metadata": {
    "papermill": {
     "duration": 0.018447,
     "end_time": "2023-11-02T16:06:46.088243",
     "exception": false,
     "start_time": "2023-11-02T16:06:46.069796",
     "status": "completed"
    },
    "tags": []
   },
   "source": [
    "- **A diagonal matrix whose all diagonal elements are 1 is called a Unit Matrix.**\n",
    "- **A unit matrix is also called an Identity matrix.**\n",
    "- **An identity matrix is represented by I.**"
   ]
  },
  {
   "cell_type": "code",
   "execution_count": 24,
   "id": "e2109bdc",
   "metadata": {
    "execution": {
     "iopub.execute_input": "2023-11-02T16:06:46.128270Z",
     "iopub.status.busy": "2023-11-02T16:06:46.127859Z",
     "iopub.status.idle": "2023-11-02T16:06:46.133992Z",
     "shell.execute_reply": "2023-11-02T16:06:46.133029Z"
    },
    "papermill": {
     "duration": 0.029772,
     "end_time": "2023-11-02T16:06:46.136848",
     "exception": false,
     "start_time": "2023-11-02T16:06:46.107076",
     "status": "completed"
    },
    "tags": []
   },
   "outputs": [
    {
     "name": "stdout",
     "output_type": "stream",
     "text": [
      "Identity Matrix : [[1. 0. 0.]\n",
      " [0. 1. 0.]\n",
      " [0. 0. 1.]]\n"
     ]
    }
   ],
   "source": [
    "idnty = np.identity(3)\n",
    "print(f\"Identity Matrix : {idnty}\")"
   ]
  },
  {
   "cell_type": "markdown",
   "id": "070943c1",
   "metadata": {
    "papermill": {
     "duration": 0.022212,
     "end_time": "2023-11-02T16:06:46.177361",
     "exception": false,
     "start_time": "2023-11-02T16:06:46.155149",
     "status": "completed"
    },
    "tags": []
   },
   "source": [
    "## One's Matrix"
   ]
  },
  {
   "cell_type": "code",
   "execution_count": 25,
   "id": "a2bc06ee",
   "metadata": {
    "execution": {
     "iopub.execute_input": "2023-11-02T16:06:46.221486Z",
     "iopub.status.busy": "2023-11-02T16:06:46.219798Z",
     "iopub.status.idle": "2023-11-02T16:06:46.227731Z",
     "shell.execute_reply": "2023-11-02T16:06:46.225998Z"
    },
    "papermill": {
     "duration": 0.032781,
     "end_time": "2023-11-02T16:06:46.230777",
     "exception": false,
     "start_time": "2023-11-02T16:06:46.197996",
     "status": "completed"
    },
    "tags": []
   },
   "outputs": [
    {
     "name": "stdout",
     "output_type": "stream",
     "text": [
      "One Matrix : [[1. 1. 1.]\n",
      " [1. 1. 1.]\n",
      " [1. 1. 1.]]\n"
     ]
    }
   ],
   "source": [
    "one = np.ones((3,3))\n",
    "print(f\"One Matrix : {one}\")"
   ]
  },
  {
   "cell_type": "markdown",
   "id": "da212c56",
   "metadata": {
    "papermill": {
     "duration": 0.018965,
     "end_time": "2023-11-02T16:06:46.269814",
     "exception": false,
     "start_time": "2023-11-02T16:06:46.250849",
     "status": "completed"
    },
    "tags": []
   },
   "source": [
    "## Null Matrix"
   ]
  },
  {
   "cell_type": "markdown",
   "id": "6de1223c",
   "metadata": {
    "papermill": {
     "duration": 0.018889,
     "end_time": "2023-11-02T16:06:46.307585",
     "exception": false,
     "start_time": "2023-11-02T16:06:46.288696",
     "status": "completed"
    },
    "tags": []
   },
   "source": [
    "- **A matrix whose all elements are zero is called a Zero Matrix.**\n",
    "- **A zero matrix is also called as Null Matrix.**"
   ]
  },
  {
   "cell_type": "code",
   "execution_count": 26,
   "id": "47d27ea0",
   "metadata": {
    "execution": {
     "iopub.execute_input": "2023-11-02T16:06:46.347254Z",
     "iopub.status.busy": "2023-11-02T16:06:46.346804Z",
     "iopub.status.idle": "2023-11-02T16:06:46.353527Z",
     "shell.execute_reply": "2023-11-02T16:06:46.352410Z"
    },
    "papermill": {
     "duration": 0.029579,
     "end_time": "2023-11-02T16:06:46.356137",
     "exception": false,
     "start_time": "2023-11-02T16:06:46.326558",
     "status": "completed"
    },
    "tags": []
   },
   "outputs": [
    {
     "name": "stdout",
     "output_type": "stream",
     "text": [
      "Null Matrix : [[0. 0. 0.]\n",
      " [0. 0. 0.]\n",
      " [0. 0. 0.]]\n"
     ]
    }
   ],
   "source": [
    "zero = np.zeros((3,3))\n",
    "print(f\"Null Matrix : {zero}\")"
   ]
  }
 ],
 "metadata": {
  "kernelspec": {
   "display_name": "Python 3",
   "language": "python",
   "name": "python3"
  },
  "language_info": {
   "codemirror_mode": {
    "name": "ipython",
    "version": 3
   },
   "file_extension": ".py",
   "mimetype": "text/x-python",
   "name": "python",
   "nbconvert_exporter": "python",
   "pygments_lexer": "ipython3",
   "version": "3.10.12"
  },
  "papermill": {
   "default_parameters": {},
   "duration": 7.015888,
   "end_time": "2023-11-02T16:06:46.797342",
   "environment_variables": {},
   "exception": null,
   "input_path": "__notebook__.ipynb",
   "output_path": "__notebook__.ipynb",
   "parameters": {},
   "start_time": "2023-11-02T16:06:39.781454",
   "version": "2.4.0"
  }
 },
 "nbformat": 4,
 "nbformat_minor": 5
}
