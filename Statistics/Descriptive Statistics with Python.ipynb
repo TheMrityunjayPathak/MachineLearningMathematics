{
 "cells": [
  {
   "cell_type": "markdown",
   "id": "b8bb764b",
   "metadata": {
    "papermill": {
     "duration": 0.009309,
     "end_time": "2023-06-12T04:43:28.003590",
     "exception": false,
     "start_time": "2023-06-12T04:43:27.994281",
     "status": "completed"
    },
    "tags": []
   },
   "source": [
    "<h1 style=\"color:blue\" align=\"center\">Descriptive Statistics with Python</h1>"
   ]
  },
  {
   "cell_type": "markdown",
   "id": "3af3b5f7",
   "metadata": {
    "papermill": {
     "duration": 0.008484,
     "end_time": "2023-06-12T04:43:28.021465",
     "exception": false,
     "start_time": "2023-06-12T04:43:28.012981",
     "status": "completed"
    },
    "tags": []
   },
   "source": [
    "**Statistics in general, is the method of collection of data, tabulation, and interpretation of numerical data.\n",
    "It is an area of applied mathematics concerned with data collection analysis, interpretation, and presentation.**"
   ]
  },
  {
   "cell_type": "markdown",
   "id": "042432fe",
   "metadata": {
    "papermill": {
     "duration": 0.008296,
     "end_time": "2023-06-12T04:43:28.038513",
     "exception": false,
     "start_time": "2023-06-12T04:43:28.030217",
     "status": "completed"
    },
    "tags": []
   },
   "source": [
    "**We will be covering Descriptive Statistics with the help of the Python Pandas Library.**"
   ]
  },
  {
   "cell_type": "markdown",
   "id": "369a2d18",
   "metadata": {
    "papermill": {
     "duration": 0.008327,
     "end_time": "2023-06-12T04:43:28.055600",
     "exception": false,
     "start_time": "2023-06-12T04:43:28.047273",
     "status": "completed"
    },
    "tags": []
   },
   "source": [
    "- **Importing Pandas Library**"
   ]
  },
  {
   "cell_type": "code",
   "execution_count": 1,
   "id": "04ab460f",
   "metadata": {
    "execution": {
     "iopub.execute_input": "2023-06-12T04:43:28.076923Z",
     "iopub.status.busy": "2023-06-12T04:43:28.076540Z",
     "iopub.status.idle": "2023-06-12T04:43:28.088616Z",
     "shell.execute_reply": "2023-06-12T04:43:28.087257Z"
    },
    "papermill": {
     "duration": 0.027274,
     "end_time": "2023-06-12T04:43:28.091491",
     "exception": false,
     "start_time": "2023-06-12T04:43:28.064217",
     "status": "completed"
    },
    "tags": []
   },
   "outputs": [],
   "source": [
    "# Importing Pandas Library\n",
    "import pandas as pd"
   ]
  },
  {
   "cell_type": "markdown",
   "id": "cdbc3815",
   "metadata": {
    "papermill": {
     "duration": 0.008789,
     "end_time": "2023-06-12T04:43:28.109226",
     "exception": false,
     "start_time": "2023-06-12T04:43:28.100437",
     "status": "completed"
    },
    "tags": []
   },
   "source": [
    "- **Dataset**"
   ]
  },
  {
   "cell_type": "markdown",
   "id": "03b481be",
   "metadata": {
    "papermill": {
     "duration": 0.008378,
     "end_time": "2023-06-12T04:43:28.126493",
     "exception": false,
     "start_time": "2023-06-12T04:43:28.118115",
     "status": "completed"
    },
    "tags": []
   },
   "source": [
    "[Height Dataset](https://github.com/TheMrityunjayPathak/FeatureEngineering/blob/main/Removing%20Outlier%20Using%20Z-Score/gender_height.csv)"
   ]
  },
  {
   "cell_type": "markdown",
   "id": "f22f87c8",
   "metadata": {
    "papermill": {
     "duration": 0.008321,
     "end_time": "2023-06-12T04:43:28.143581",
     "exception": false,
     "start_time": "2023-06-12T04:43:28.135260",
     "status": "completed"
    },
    "tags": []
   },
   "source": [
    "- **Reading CSV File**"
   ]
  },
  {
   "cell_type": "code",
   "execution_count": 2,
   "id": "cb75c6ef",
   "metadata": {
    "execution": {
     "iopub.execute_input": "2023-06-12T04:43:28.163377Z",
     "iopub.status.busy": "2023-06-12T04:43:28.162942Z",
     "iopub.status.idle": "2023-06-12T04:43:28.225123Z",
     "shell.execute_reply": "2023-06-12T04:43:28.224015Z"
    },
    "papermill": {
     "duration": 0.075677,
     "end_time": "2023-06-12T04:43:28.228006",
     "exception": false,
     "start_time": "2023-06-12T04:43:28.152329",
     "status": "completed"
    },
    "tags": []
   },
   "outputs": [
    {
     "data": {
      "text/html": [
       "<div>\n",
       "<style scoped>\n",
       "    .dataframe tbody tr th:only-of-type {\n",
       "        vertical-align: middle;\n",
       "    }\n",
       "\n",
       "    .dataframe tbody tr th {\n",
       "        vertical-align: top;\n",
       "    }\n",
       "\n",
       "    .dataframe thead th {\n",
       "        text-align: right;\n",
       "    }\n",
       "</style>\n",
       "<table border=\"1\" class=\"dataframe\">\n",
       "  <thead>\n",
       "    <tr style=\"text-align: right;\">\n",
       "      <th></th>\n",
       "      <th>gender</th>\n",
       "      <th>height</th>\n",
       "    </tr>\n",
       "  </thead>\n",
       "  <tbody>\n",
       "    <tr>\n",
       "      <th>0</th>\n",
       "      <td>Male</td>\n",
       "      <td>73.847017</td>\n",
       "    </tr>\n",
       "    <tr>\n",
       "      <th>1</th>\n",
       "      <td>Male</td>\n",
       "      <td>68.781904</td>\n",
       "    </tr>\n",
       "    <tr>\n",
       "      <th>2</th>\n",
       "      <td>Male</td>\n",
       "      <td>74.110105</td>\n",
       "    </tr>\n",
       "    <tr>\n",
       "      <th>3</th>\n",
       "      <td>Male</td>\n",
       "      <td>71.730978</td>\n",
       "    </tr>\n",
       "    <tr>\n",
       "      <th>4</th>\n",
       "      <td>Male</td>\n",
       "      <td>69.881796</td>\n",
       "    </tr>\n",
       "  </tbody>\n",
       "</table>\n",
       "</div>"
      ],
      "text/plain": [
       "  gender     height\n",
       "0   Male  73.847017\n",
       "1   Male  68.781904\n",
       "2   Male  74.110105\n",
       "3   Male  71.730978\n",
       "4   Male  69.881796"
      ]
     },
     "execution_count": 2,
     "metadata": {},
     "output_type": "execute_result"
    }
   ],
   "source": [
    "# Reading the CSV File\n",
    "df = pd.read_csv(\"/kaggle/input/height-of-male-and-female/gender_height.csv\")\n",
    "df.head()"
   ]
  },
  {
   "cell_type": "markdown",
   "id": "327bcd48",
   "metadata": {
    "papermill": {
     "duration": 0.008966,
     "end_time": "2023-06-12T04:43:28.246711",
     "exception": false,
     "start_time": "2023-06-12T04:43:28.237745",
     "status": "completed"
    },
    "tags": []
   },
   "source": [
    "**Here, We have Height Dataset of Male and Female and we are going to perform some Statistical Operations on this Dataset.**"
   ]
  },
  {
   "cell_type": "markdown",
   "id": "483998fa",
   "metadata": {
    "papermill": {
     "duration": 0.009025,
     "end_time": "2023-06-12T04:43:28.266044",
     "exception": false,
     "start_time": "2023-06-12T04:43:28.257019",
     "status": "completed"
    },
    "tags": []
   },
   "source": [
    "📍**Mean**\n",
    "\n",
    "- The mean is usually referred to as 'the average'.\n",
    "- The mean is the sum of all the values in the data divided by the total number of values in the data.\n",
    "\n",
    "**Here we can find out the Mean Height of the Dataset by using :**"
   ]
  },
  {
   "cell_type": "code",
   "execution_count": 3,
   "id": "9600980b",
   "metadata": {
    "execution": {
     "iopub.execute_input": "2023-06-12T04:43:28.286854Z",
     "iopub.status.busy": "2023-06-12T04:43:28.286123Z",
     "iopub.status.idle": "2023-06-12T04:43:28.295055Z",
     "shell.execute_reply": "2023-06-12T04:43:28.293756Z"
    },
    "papermill": {
     "duration": 0.022365,
     "end_time": "2023-06-12T04:43:28.297632",
     "exception": false,
     "start_time": "2023-06-12T04:43:28.275267",
     "status": "completed"
    },
    "tags": []
   },
   "outputs": [
    {
     "name": "stdout",
     "output_type": "stream",
     "text": [
      "66.367559754866\n"
     ]
    }
   ],
   "source": [
    "# Mean Height of the Dataset\n",
    "mean_height = df.height.mean()\n",
    "print(mean_height)"
   ]
  },
  {
   "cell_type": "markdown",
   "id": "7bda2617",
   "metadata": {
    "papermill": {
     "duration": 0.008944,
     "end_time": "2023-06-12T04:43:28.315767",
     "exception": false,
     "start_time": "2023-06-12T04:43:28.306823",
     "status": "completed"
    },
    "tags": []
   },
   "source": [
    "📍**Medain**\n",
    "\n",
    "- The median is the middle value in a data set ordered from low to high.\n",
    "\n",
    "**Here we can find out the Median Height of the Dataset by using :**"
   ]
  },
  {
   "cell_type": "code",
   "execution_count": 4,
   "id": "a7c88bca",
   "metadata": {
    "execution": {
     "iopub.execute_input": "2023-06-12T04:43:28.337116Z",
     "iopub.status.busy": "2023-06-12T04:43:28.336670Z",
     "iopub.status.idle": "2023-06-12T04:43:28.345390Z",
     "shell.execute_reply": "2023-06-12T04:43:28.344100Z"
    },
    "papermill": {
     "duration": 0.022325,
     "end_time": "2023-06-12T04:43:28.347831",
     "exception": false,
     "start_time": "2023-06-12T04:43:28.325506",
     "status": "completed"
    },
    "tags": []
   },
   "outputs": [
    {
     "name": "stdout",
     "output_type": "stream",
     "text": [
      "66.31807008\n"
     ]
    }
   ],
   "source": [
    "# Median Height of the Dataset\n",
    "median_height = df.height.median()\n",
    "print(median_height)"
   ]
  },
  {
   "cell_type": "markdown",
   "id": "b1421ec3",
   "metadata": {
    "papermill": {
     "duration": 0.009249,
     "end_time": "2023-06-12T04:43:28.366730",
     "exception": false,
     "start_time": "2023-06-12T04:43:28.357481",
     "status": "completed"
    },
    "tags": []
   },
   "source": [
    "📍**Mode**\n",
    "\n",
    "- The mode is the values that are the most common in the data.\n",
    "- A dataset can have multiple values that are modes.\n",
    "- A distribution of values with only one mode is called unimodal.\n",
    "- A distribution of values with two modes is called bimodal.\n",
    "- Mode can be found for both categorical and numerical data."
   ]
  },
  {
   "cell_type": "markdown",
   "id": "a13f3fae",
   "metadata": {
    "papermill": {
     "duration": 0.009245,
     "end_time": "2023-06-12T04:43:28.385465",
     "exception": false,
     "start_time": "2023-06-12T04:43:28.376220",
     "status": "completed"
    },
    "tags": []
   },
   "source": [
    "📍**Count**\n",
    "\n",
    "- The count() function is use to find the number of null value across the row.\n",
    "\n",
    "**Here we can count the Number of values in Height Column by using :**"
   ]
  },
  {
   "cell_type": "code",
   "execution_count": 5,
   "id": "20b32af3",
   "metadata": {
    "execution": {
     "iopub.execute_input": "2023-06-12T04:43:28.406564Z",
     "iopub.status.busy": "2023-06-12T04:43:28.405668Z",
     "iopub.status.idle": "2023-06-12T04:43:28.411753Z",
     "shell.execute_reply": "2023-06-12T04:43:28.410542Z"
    },
    "papermill": {
     "duration": 0.019449,
     "end_time": "2023-06-12T04:43:28.414289",
     "exception": false,
     "start_time": "2023-06-12T04:43:28.394840",
     "status": "completed"
    },
    "tags": []
   },
   "outputs": [
    {
     "name": "stdout",
     "output_type": "stream",
     "text": [
      "10000\n"
     ]
    }
   ],
   "source": [
    "#Count the Number of Values in Height Column\n",
    "height_count = df.height.count()\n",
    "print(height_count)"
   ]
  },
  {
   "cell_type": "markdown",
   "id": "bf936423",
   "metadata": {
    "papermill": {
     "duration": 0.009699,
     "end_time": "2023-06-12T04:43:28.433582",
     "exception": false,
     "start_time": "2023-06-12T04:43:28.423883",
     "status": "completed"
    },
    "tags": []
   },
   "source": [
    "📍**Variation**\n",
    "\n",
    "- Variation is a measure of how spread out the data is around the center of the data.\n",
    "\n",
    "**There are different measures of variation. The most commonly used are :**\n",
    "\n",
    "- Range\n",
    "- Quartiles and Percentiles\n",
    "- Interquartile Range\n",
    "- Variance\n",
    "- Standard Deviation"
   ]
  },
  {
   "cell_type": "markdown",
   "id": "920051e6",
   "metadata": {
    "papermill": {
     "duration": 0.009057,
     "end_time": "2023-06-12T04:43:28.452188",
     "exception": false,
     "start_time": "2023-06-12T04:43:28.443131",
     "status": "completed"
    },
    "tags": []
   },
   "source": [
    "📍**Range**\n",
    "\n",
    "- The range is the difference between the smallest and the largest value of the data.\n",
    "\n",
    "**Here we can find out the Range of Height by using :**"
   ]
  },
  {
   "cell_type": "code",
   "execution_count": 6,
   "id": "1dc87681",
   "metadata": {
    "execution": {
     "iopub.execute_input": "2023-06-12T04:43:28.472938Z",
     "iopub.status.busy": "2023-06-12T04:43:28.472571Z",
     "iopub.status.idle": "2023-06-12T04:43:28.479878Z",
     "shell.execute_reply": "2023-06-12T04:43:28.478639Z"
    },
    "papermill": {
     "duration": 0.021295,
     "end_time": "2023-06-12T04:43:28.482927",
     "exception": false,
     "start_time": "2023-06-12T04:43:28.461632",
     "status": "completed"
    },
    "tags": []
   },
   "outputs": [
    {
     "name": "stdout",
     "output_type": "stream",
     "text": [
      "24.73560902\n"
     ]
    }
   ],
   "source": [
    "#Range of Height\n",
    "height_range = df.height.max() - df.height.min()\n",
    "print(height_range)"
   ]
  },
  {
   "cell_type": "markdown",
   "id": "6b545edb",
   "metadata": {
    "papermill": {
     "duration": 0.010299,
     "end_time": "2023-06-12T04:43:28.503415",
     "exception": false,
     "start_time": "2023-06-12T04:43:28.493116",
     "status": "completed"
    },
    "tags": []
   },
   "source": [
    "📍**Quartiles and Percentiles**\n",
    "\n",
    "- Quartiles and percentiles are ways of separating equal numbers of values in the data into parts."
   ]
  },
  {
   "attachments": {
    "1684949400425.png": {
     "image/png": "[encoded data removed]"
    }
   },
   "cell_type": "markdown",
   "id": "4ac8e5e6",
   "metadata": {
    "papermill": {
     "duration": 0.009421,
     "end_time": "2023-06-12T04:43:28.522495",
     "exception": false,
     "start_time": "2023-06-12T04:43:28.513074",
     "status": "completed"
    },
    "tags": []
   },
   "source": [
    "![1684949400425.png](attachment:1684949400425.png)"
   ]
  },
  {
   "cell_type": "markdown",
   "id": "52c4c2e5",
   "metadata": {
    "papermill": {
     "duration": 0.009534,
     "end_time": "2023-06-12T04:43:28.542145",
     "exception": false,
     "start_time": "2023-06-12T04:43:28.532611",
     "status": "completed"
    },
    "tags": []
   },
   "source": [
    "- The quartiles (Q0,Q1,Q2,Q3,Q4) are the values that separate each quarter.\n",
    "- Between Q0 and Q1 are the 25% lowest values in the data. Between Q1 and Q2 are the next 25%. And so on.\n",
    "- Quartiles are values that separate the data into four equal parts.\n",
    "- Percentiles are values that separate the data into 100 equal parts.\n",
    "\n",
    "**Here we can find out the Quartile of Height by using :**"
   ]
  },
  {
   "cell_type": "code",
   "execution_count": 7,
   "id": "a21ae0b2",
   "metadata": {
    "execution": {
     "iopub.execute_input": "2023-06-12T04:43:28.564024Z",
     "iopub.status.busy": "2023-06-12T04:43:28.563617Z",
     "iopub.status.idle": "2023-06-12T04:43:28.576427Z",
     "shell.execute_reply": "2023-06-12T04:43:28.574615Z"
    },
    "papermill": {
     "duration": 0.027726,
     "end_time": "2023-06-12T04:43:28.579596",
     "exception": false,
     "start_time": "2023-06-12T04:43:28.551870",
     "status": "completed"
    },
    "tags": []
   },
   "outputs": [
    {
     "name": "stdout",
     "output_type": "stream",
     "text": [
      "63.505620480000005\n",
      "66.31807008\n",
      "69.17426172750001\n"
     ]
    }
   ],
   "source": [
    "# Quartile of Dataset\n",
    "Q1 = df.height.quantile(0.25)\n",
    "Q2 = df.height.quantile(0.50)\n",
    "Q3 = df.height.quantile(0.75)\n",
    "print(Q1)\n",
    "print(Q2)\n",
    "print(Q3)"
   ]
  },
  {
   "cell_type": "markdown",
   "id": "e7736730",
   "metadata": {
    "papermill": {
     "duration": 0.009532,
     "end_time": "2023-06-12T04:43:28.599170",
     "exception": false,
     "start_time": "2023-06-12T04:43:28.589638",
     "status": "completed"
    },
    "tags": []
   },
   "source": [
    "📍**Interquartile Range**\n",
    "\n",
    "- Interquartile range is the difference between the first and third quartiles (Q1 and Q3).\n",
    "- The 'middle half' of the data is between the first and third quartile.\n",
    "\n",
    "**Here we can find out the IQR of Height by using :**"
   ]
  },
  {
   "cell_type": "code",
   "execution_count": 8,
   "id": "405e718a",
   "metadata": {
    "execution": {
     "iopub.execute_input": "2023-06-12T04:43:28.620971Z",
     "iopub.status.busy": "2023-06-12T04:43:28.620580Z",
     "iopub.status.idle": "2023-06-12T04:43:28.630833Z",
     "shell.execute_reply": "2023-06-12T04:43:28.629325Z"
    },
    "papermill": {
     "duration": 0.024298,
     "end_time": "2023-06-12T04:43:28.633392",
     "exception": false,
     "start_time": "2023-06-12T04:43:28.609094",
     "status": "completed"
    },
    "tags": []
   },
   "outputs": [
    {
     "name": "stdout",
     "output_type": "stream",
     "text": [
      "5.668641247500005\n"
     ]
    }
   ],
   "source": [
    "# Interquartile Range\n",
    "Q1 = df.height.quantile(0.25)\n",
    "Q3 = df.height.quantile(0.75)\n",
    "iqr = Q3 - Q1\n",
    "print(iqr)"
   ]
  },
  {
   "cell_type": "markdown",
   "id": "2363b2ec",
   "metadata": {
    "papermill": {
     "duration": 0.009696,
     "end_time": "2023-06-12T04:43:28.653243",
     "exception": false,
     "start_time": "2023-06-12T04:43:28.643547",
     "status": "completed"
    },
    "tags": []
   },
   "source": [
    "📍**Variance**\n",
    "\n",
    "- Variance is a measurement of the spread between numbers in a data set.\n",
    "- It measures the degree of dispersion of data around the sample's mean.\n",
    "\n",
    "**Here we can find out the Variance of Height by using :**"
   ]
  },
  {
   "cell_type": "code",
   "execution_count": 9,
   "id": "b8112655",
   "metadata": {
    "execution": {
     "iopub.execute_input": "2023-06-12T04:43:28.675272Z",
     "iopub.status.busy": "2023-06-12T04:43:28.674481Z",
     "iopub.status.idle": "2023-06-12T04:43:28.681554Z",
     "shell.execute_reply": "2023-06-12T04:43:28.680027Z"
    },
    "papermill": {
     "duration": 0.020904,
     "end_time": "2023-06-12T04:43:28.684053",
     "exception": false,
     "start_time": "2023-06-12T04:43:28.663149",
     "status": "completed"
    },
    "tags": []
   },
   "outputs": [
    {
     "name": "stdout",
     "output_type": "stream",
     "text": [
      "14.803472640312716\n"
     ]
    }
   ],
   "source": [
    "#Variance of Height\n",
    "height_var = df.height.var()\n",
    "print(height_var)"
   ]
  },
  {
   "cell_type": "markdown",
   "id": "d37e6ccd",
   "metadata": {
    "papermill": {
     "duration": 0.009826,
     "end_time": "2023-06-12T04:43:28.704380",
     "exception": false,
     "start_time": "2023-06-12T04:43:28.694554",
     "status": "completed"
    },
    "tags": []
   },
   "source": [
    "📍**Standard Deviation**\n",
    "\n",
    "- Standard deviation is the most used measure of variation.\n",
    "- Standard deviation (σ) measures how far a 'typical' observation is from the average of the data (μ).\n",
    "\n",
    "**Here we can find out the Standard Deviation of Height by using :**"
   ]
  },
  {
   "cell_type": "code",
   "execution_count": 10,
   "id": "98ef7c43",
   "metadata": {
    "execution": {
     "iopub.execute_input": "2023-06-12T04:43:28.726442Z",
     "iopub.status.busy": "2023-06-12T04:43:28.726020Z",
     "iopub.status.idle": "2023-06-12T04:43:28.734259Z",
     "shell.execute_reply": "2023-06-12T04:43:28.732375Z"
    },
    "papermill": {
     "duration": 0.022393,
     "end_time": "2023-06-12T04:43:28.736940",
     "exception": false,
     "start_time": "2023-06-12T04:43:28.714547",
     "status": "completed"
    },
    "tags": []
   },
   "outputs": [
    {
     "name": "stdout",
     "output_type": "stream",
     "text": [
      "3.847528120795573\n"
     ]
    }
   ],
   "source": [
    "#Standard Deviation of Height\n",
    "std_height = df.height.std()\n",
    "print(std_height)"
   ]
  },
  {
   "cell_type": "markdown",
   "id": "df240b60",
   "metadata": {
    "papermill": {
     "duration": 0.010507,
     "end_time": "2023-06-12T04:43:28.758053",
     "exception": false,
     "start_time": "2023-06-12T04:43:28.747546",
     "status": "completed"
    },
    "tags": []
   },
   "source": [
    "📍**Pandas describe() Method**\n",
    "\n",
    "- The describe() method returns description of the data in the DataFrame.\n",
    "\n",
    "**If the DataFrame contains numerical data, the description contains these information for each column :**\n",
    "\n",
    "- count - The number of not-empty values.\n",
    "- mean - The average (mean) value.\n",
    "- std - The standard deviation.\n",
    "- min - the minimum value.\n",
    "- 25% - The 25% percentile.\n",
    "- 50% - The 50% percentile.\n",
    "- 75% - The 75% percentile.\n",
    "- max - the maximum value.\n",
    "\n",
    "**Here we can describe our Dataset by using :**"
   ]
  },
  {
   "cell_type": "code",
   "execution_count": 11,
   "id": "d831c804",
   "metadata": {
    "execution": {
     "iopub.execute_input": "2023-06-12T04:43:28.781290Z",
     "iopub.status.busy": "2023-06-12T04:43:28.780873Z",
     "iopub.status.idle": "2023-06-12T04:43:28.795688Z",
     "shell.execute_reply": "2023-06-12T04:43:28.794406Z"
    },
    "papermill": {
     "duration": 0.029901,
     "end_time": "2023-06-12T04:43:28.798565",
     "exception": false,
     "start_time": "2023-06-12T04:43:28.768664",
     "status": "completed"
    },
    "tags": []
   },
   "outputs": [
    {
     "name": "stdout",
     "output_type": "stream",
     "text": [
      "             height\n",
      "count  10000.000000\n",
      "mean      66.367560\n",
      "std        3.847528\n",
      "min       54.263133\n",
      "25%       63.505620\n",
      "50%       66.318070\n",
      "75%       69.174262\n",
      "max       78.998742\n"
     ]
    }
   ],
   "source": [
    "#Describing our Dataset\n",
    "df_desc = df.describe()\n",
    "print(df_desc)"
   ]
  }
 ],
 "metadata": {
  "kernelspec": {
   "display_name": "Python 3",
   "language": "python",
   "name": "python3"
  },
  "language_info": {
   "codemirror_mode": {
    "name": "ipython",
    "version": 3
   },
   "file_extension": ".py",
   "mimetype": "text/x-python",
   "name": "python",
   "nbconvert_exporter": "python",
   "pygments_lexer": "ipython3",
   "version": "3.10.10"
  },
  "papermill": {
   "default_parameters": {},
   "duration": 15.320191,
   "end_time": "2023-06-12T04:43:29.734373",
   "environment_variables": {},
   "exception": null,
   "input_path": "__notebook__.ipynb",
   "output_path": "__notebook__.ipynb",
   "parameters": {},
   "start_time": "2023-06-12T04:43:14.414182",
   "version": "2.4.0"
  }
 },
 "nbformat": 4,
 "nbformat_minor": 5
}
