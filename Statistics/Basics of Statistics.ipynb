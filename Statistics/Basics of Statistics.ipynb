{
 "cells": [
  {
   "cell_type": "markdown",
   "id": "d42432ae",
   "metadata": {
    "papermill": {
     "duration": 0.005694,
     "end_time": "2023-12-22T10:10:50.019701",
     "exception": false,
     "start_time": "2023-12-22T10:10:50.014007",
     "status": "completed"
    },
    "tags": []
   },
   "source": [
    "<div style=\"background-color: seagreen; padding:8px; border-radius:8px\"><h1 style=\"color:white\" align=\"center\">Statistics in Machine Learning</h1></div>"
   ]
  },
  {
   "cell_type": "markdown",
   "id": "34ce5914",
   "metadata": {
    "papermill": {
     "duration": 0.004849,
     "end_time": "2023-12-22T10:10:50.030132",
     "exception": false,
     "start_time": "2023-12-22T10:10:50.025283",
     "status": "completed"
    },
    "tags": []
   },
   "source": [
    "## Statistics\n",
    "\n",
    "**Statistics is the discipline that concerns the collection, organization, analysis, interpretation, and presentation of data.** \n",
    "\n",
    "### <u>Types of Statistics</u>\n",
    "\n",
    "**There are two types of Statistics :**\n",
    "\n",
    "**1️⃣ Descriptive Statistics**\n",
    "\n",
    "- **Descriptive statistics is understanding, analyzing, summarizing the data in form of numbers and graphs.**\n",
    "  \n",
    "- **We analyze the data using different plots and charts on different kinds of data(numerical and categorical) like bar plot, pie chart, scatter plot, Histogram, etc.**\n",
    "  \n",
    "- **All the kind of interpretation, visualizing is part of descriptive statistics.**\n",
    "  \n",
    "- **Remember that descriptive statistics can be performed on a sample as well as population data but never do we get or take population data.**\n",
    "\n",
    "**2️⃣ Inferential Statistics**\n",
    "\n",
    "- **We are extracting some sample of data from population data, and from that sample of data, we are inferencing something(driving conclusion) for population data.**\n",
    "  \n",
    "- **It means we perform some tests on sample data and make a conclusion specific to that population.**\n",
    "  \n",
    "- **We use various techniques to drive conclusions including data visualization, manipulation, etc.**"
   ]
  },
  {
   "cell_type": "markdown",
   "id": "268c12a6",
   "metadata": {
    "papermill": {
     "duration": 0.004709,
     "end_time": "2023-12-22T10:10:50.039914",
     "exception": false,
     "start_time": "2023-12-22T10:10:50.035205",
     "status": "completed"
    },
    "tags": []
   },
   "source": [
    "### <u>Types of Data</u>\n",
    "\n",
    "**There are 2 types of data, Numerical and Categorical which we need to handle and analyze.**\n",
    "\n",
    "### Numerical Data\n",
    "\n",
    "- **Numerical data simply means Numbers or integers.**\n",
    "\n",
    "1️⃣ **Discrete Numerical Variables**\n",
    "\n",
    "- **Discrete variables are those whose values are infinite range, for example, rank in the classroom, number of faculties in the department, etc.**\n",
    "\n",
    "2️⃣ **Continuous Numeric Variable**\n",
    "\n",
    "- **Continuous variables are those whose value can range infinite, means not in the proper range for example salary of an employee.**\n",
    "\n",
    "### Categorical Data\n",
    "\n",
    "- **Categorical data means categories type of data like gender, age group, educational level.**\n",
    "\n",
    "1️⃣ **Ordinal Variables**\n",
    "\n",
    "- **Ordinal categorical variable means whose values you can rank between any range like a grade of student(A, B, C), high, medium, and low.**\n",
    "\n",
    "2️⃣ **Nominal Variables**\n",
    "\n",
    "- **Nominal variables are variables that cannot be ranked, simply contain names or number of categories like colour name, subjects, etc.**"
   ]
  },
  {
   "cell_type": "markdown",
   "id": "40293def",
   "metadata": {
    "papermill": {
     "duration": 0.004651,
     "end_time": "2023-12-22T10:10:50.049563",
     "exception": false,
     "start_time": "2023-12-22T10:10:50.044912",
     "status": "completed"
    },
    "tags": []
   },
   "source": [
    "### <u>Mean, Median and Mode</u>\n",
    "\n",
    "- **Mean, Median, and Mode are different measures of center in a numerical Dataset.**\n",
    "\n",
    "- **They each try to summarize a dataset with a single number to represent a typical data point from the dataset.**\n",
    "\n",
    "1️⃣ **Mean :** **The average number found by adding all data points and dividing by the number of data points.**\n",
    "\n",
    "2️⃣ **Median :** **The middle number found by ordering all data points and picking out the one in the middle.**\n",
    "\n",
    "3️⃣ **Mode :** **The most frequent number i.e the number that occurs the highest number of times.**\n",
    "\n",
    "▶️ **Mean**\n",
    "\n",
    "- **There are many different types of mean, but usually when people say mean, they are talking about the arithmetic mean.**\n",
    "\n",
    "- **The arithmetic mean is the sum of all of the data points divided by the number of data points.**\n",
    "\n",
    "`Mean = Sum of All Data Points / Number of Data Points`\n",
    "\n",
    "▶️ **Median**\n",
    "\n",
    "- **The Median is the middle point in a Dataset i.e half of the data points are smaller than the Median and half of the data points are larger.**\n",
    "\n",
    "- **Arrange the data points from smallest to largest.**\n",
    "\n",
    "- **If the number of data points is odd, the median is the middle data point in the list.**\n",
    "\n",
    "`Median = [(n + 1)/2]th term`\n",
    "\n",
    "- **If the number of data points is even, the median is the average of the two middle data points in the list.**\n",
    "\n",
    "`Median = [(n/2)th term + ((n/2) + 1)th term]/2`\n",
    "\n",
    "▶️ **Mode**\n",
    "\n",
    "- **The Mode is the most commonly occurring data point in a Dataset.**\n",
    "\n",
    "- **The Mode is useful when there are a lot of repeated values in a dataset.**\n",
    "\n",
    "- **There can be no mode, one mode, or multiple modes in a dataset.**"
   ]
  },
  {
   "cell_type": "markdown",
   "id": "ce0496f3",
   "metadata": {
    "papermill": {
     "duration": 0.004591,
     "end_time": "2023-12-22T10:10:50.059087",
     "exception": false,
     "start_time": "2023-12-22T10:10:50.054496",
     "status": "completed"
    },
    "tags": []
   },
   "source": [
    "### <u>Range</u>\n",
    "\n",
    "- **The range is the easiest dispersion of data or measure of variability.**\n",
    "\n",
    "- **The range can measure by subtracting the lowest value from the massive Number.**\n",
    "\n",
    "- **The wide range indicates high variability, and the small range specifies low variability in the distribution.**\n",
    "\n",
    "`Range = Highest value - Lowest value`"
   ]
  },
  {
   "attachments": {
    "5536ea5b-41fe-4744-a859-6ad9acc57a39.png": {
     "image/png": "[encoded data removed]"
    }
   },
   "cell_type": "markdown",
   "id": "cb4716ba",
   "metadata": {
    "papermill": {
     "duration": 0.004606,
     "end_time": "2023-12-22T10:10:50.068594",
     "exception": false,
     "start_time": "2023-12-22T10:10:50.063988",
     "status": "completed"
    },
    "tags": []
   },
   "source": [
    "### <u>Interquartile Range (IQR)</u>\n",
    "\n",
    "- **Interquartile range is the amount of spread in the middle 50% of a dataset.**\n",
    "\n",
    "- **In other words, it is the distance between the first quartile (Q1) and the third Quartile (Q3).**\n",
    "\n",
    "`IQR = Q3 - Q1`\n",
    "\n",
    "### How to Calculate IQR :\n",
    "\n",
    "**➡️ Step 1 : Put the data in order from least to greatest.**\n",
    "\n",
    "**➡️ Step 2 : Find the median. If the number of data points is odd, the median is the middle data point. If the number of data points is even, the median is the average of the middle two data points.**\n",
    "\n",
    "**➡️ Step 3 : Find the first quartile (Q1). The first quartile is the median of the data points to the left of the median in the ordered list.**\n",
    "\n",
    "**➡️ Step 4 : Find the third quartile (Q3). The third quartile is the median of the data points to the right of the median in the ordered list.**\n",
    "\n",
    "**➡️ Step 5 : Calculate IQR by subtracting (Q3) - (Q1).**\n",
    "\n",
    "![download.png](attachment:5536ea5b-41fe-4744-a859-6ad9acc57a39.png)"
   ]
  },
  {
   "cell_type": "markdown",
   "id": "d82fd526",
   "metadata": {
    "papermill": {
     "duration": 0.005049,
     "end_time": "2023-12-22T10:10:50.078573",
     "exception": false,
     "start_time": "2023-12-22T10:10:50.073524",
     "status": "completed"
    },
    "tags": []
   },
   "source": [
    "### <u>Z-Score</u>\n",
    "\n",
    "- **Z-score is a statistical measurement that describes a value's relationship to the mean of a group of values.**\n",
    "\n",
    "- **Z-score is measured in terms of standard deviations from the mean.**\n",
    "\n",
    "- **Z-scores may be positive or negative, with a positive value indicating the score is above the mean and a negative score indicating it is below the mean.**\n",
    "\n",
    "- **The statistical formula for a value's z-score is calculated using the following formula :**\n",
    "\n",
    "`z = ( x - μ ) / σ`\n",
    "\n",
    "**Here,**\n",
    "- **z = Z-score**\n",
    "- **x = the value being evaluated**\n",
    "- **μ = the mean**\n",
    "- **σ = the standard deviation**"
   ]
  },
  {
   "attachments": {
    "ba6f8cd1-b726-474c-8646-157c93ebb13d.png": {
     "image/png": "[encoded data removed]"
    }
   },
   "cell_type": "markdown",
   "id": "b905375a",
   "metadata": {
    "papermill": {
     "duration": 0.004687,
     "end_time": "2023-12-22T10:10:50.088421",
     "exception": false,
     "start_time": "2023-12-22T10:10:50.083734",
     "status": "completed"
    },
    "tags": []
   },
   "source": [
    "### <u>Modified Z-Score</u>\n",
    "\n",
    "- **A Modified Z-Score is more robust because it uses the median to calculate z-scores as opposed to the mean, which is known to be influenced by outliers.**\n",
    "  \n",
    "`Modified Z-Score = 0.6745(xi – x̃) / MAD`\n",
    "\n",
    "**Here,**\n",
    "- **xi = the data value**\n",
    "- **x̃ = The median of the dataset**\n",
    "- **MAD = The median absolute deviation of the dataset**\n",
    "\n",
    "### Note\n",
    "\n",
    "- **Value's with Modified Z-Scores less than -3.5 or greater than 3.5 be labeled as potential outliers.**\n",
    "\n",
    "### <u>Mean Absolute Deviation</u>\n",
    "\n",
    "- **Mean Absolute Deviation is one of the metrics of statistics that helps us find out the average spread of the data.**\n",
    "  \n",
    "- **Mean Absolute Deviation shows the average distance of the observation of the dataset from the mean of the dataset.**\n",
    "\n",
    "![Screenshot-from-2018-11-25-03-54-35.png](attachment:ba6f8cd1-b726-474c-8646-157c93ebb13d.png)\n",
    "\n",
    "**Here,**\n",
    "- **x<sub>i</sub> = the data value**\n",
    "- **x̄ = mean of the dataset**\n",
    "- **n = number of observation in the dataset**"
   ]
  },
  {
   "attachments": {
    "54119e68-9f21-4d54-b13e-ac91e09ea168.png": {
     "image/png": "[encoded data removed]"
    },
    "6ff10c51-ce96-4a90-b971-76172cc486f9.png": {
     "image/png": "[encoded data removed]"
    }
   },
   "cell_type": "markdown",
   "id": "10924404",
   "metadata": {
    "papermill": {
     "duration": 0.004807,
     "end_time": "2023-12-22T10:10:50.098206",
     "exception": false,
     "start_time": "2023-12-22T10:10:50.093399",
     "status": "completed"
    },
    "tags": []
   },
   "source": [
    "### <u>Variance</u>\n",
    "\n",
    "- **Variance is a simple measure of dispersion.**\n",
    "\n",
    "- **Variance measures how far each number in the dataset from the mean.**\n",
    "\n",
    "- **To compute variance first, calculate the mean and squared deviations from a mean.**\n",
    "\n",
    "### Population Variance\n",
    "\n",
    "![download.png](attachment:6ff10c51-ce96-4a90-b971-76172cc486f9.png)\n",
    "\n",
    "**Here,**\n",
    "- **μ is population mean,**\n",
    "- **σ<sup>2</sup> is population variance,**\n",
    "- **x<sub>i</sub> is value of i<sup>th</sup> element,**\n",
    "- **n is population size.**\n",
    "\n",
    "### Sample Variance\n",
    "\n",
    "![download.png](attachment:54119e68-9f21-4d54-b13e-ac91e09ea168.png)\n",
    "\n",
    "**Here,**\n",
    "- **x̄ is sample mean,**\n",
    "- **s<sup>2</sup> is sample variance,**\n",
    "- **x<sub>i</sub> is value of i<sup>th</sup> element,**\n",
    "- **n is sample size.**"
   ]
  },
  {
   "attachments": {
    "878eebc0-6c45-4af2-9a02-4c7483e18d1a.png": {
     "image/png": "[encoded data removed]"
    },
    "d6e1bef1-e89f-419b-a4d8-1df552f3b384.png": {
     "image/png": "[encoded data removed]"
    }
   },
   "cell_type": "markdown",
   "id": "808cc366",
   "metadata": {
    "papermill": {
     "duration": 0.004684,
     "end_time": "2023-12-22T10:10:50.107927",
     "exception": false,
     "start_time": "2023-12-22T10:10:50.103243",
     "status": "completed"
    },
    "tags": []
   },
   "source": [
    "### <u>Standard Deviation</u>\n",
    "\n",
    "- **Standard deviation measures the spread of a data distribution.**\n",
    "  \n",
    "- **The more spread out a data distribution is, the greater its standard deviation.**\n",
    "\n",
    "### Population Standard Deviation\n",
    "\n",
    "![image-17 (1).png](attachment:878eebc0-6c45-4af2-9a02-4c7483e18d1a.png)\n",
    "\n",
    "**Here,**\n",
    "- **x<sub>i</sub> is value of i<sup>th</sup> element,**\n",
    "- **μ is the population mean,**\n",
    "- **N is the population size.**\n",
    "\n",
    "### Sample Standard Deviation\n",
    "\n",
    "![download.png](attachment:d6e1bef1-e89f-419b-a4d8-1df552f3b384.png)\n",
    "\n",
    "**Here,**\n",
    "- **x<sub>i</sub> is value of i<sup>th</sup> element,**\n",
    "- **x̄ is the sample mean,**\n",
    "- **N is the sample size.**"
   ]
  }
 ],
 "metadata": {
  "kaggle": {
   "accelerator": "none",
   "dataSources": [],
   "dockerImageVersionId": 30626,
   "isGpuEnabled": false,
   "isInternetEnabled": true,
   "language": "python",
   "sourceType": "notebook"
  },
  "kernelspec": {
   "display_name": "Python 3",
   "language": "python",
   "name": "python3"
  },
  "language_info": {
   "codemirror_mode": {
    "name": "ipython",
    "version": 3
   },
   "file_extension": ".py",
   "mimetype": "text/x-python",
   "name": "python",
   "nbconvert_exporter": "python",
   "pygments_lexer": "ipython3",
   "version": "3.10.12"
  },
  "papermill": {
   "default_parameters": {},
   "duration": 4.117226,
   "end_time": "2023-12-22T10:10:50.533520",
   "environment_variables": {},
   "exception": null,
   "input_path": "__notebook__.ipynb",
   "output_path": "__notebook__.ipynb",
   "parameters": {},
   "start_time": "2023-12-22T10:10:46.416294",
   "version": "2.4.0"
  }
 },
 "nbformat": 4,
 "nbformat_minor": 5
}
