{
 "cells": [
  {
   "cell_type": "markdown",
   "id": "1676fd88",
   "metadata": {
    "papermill": {
     "duration": 0.007819,
     "end_time": "2023-11-07T10:40:45.745362",
     "exception": false,
     "start_time": "2023-11-07T10:40:45.737543",
     "status": "completed"
    },
    "tags": []
   },
   "source": [
    "<div style=\"background-color:cadetblue; padding:5px; border-radius:8px;\"><h1 style=\"color:white;\" align=\"center\">Distance Metrics in Machine Learning</h1></div>"
   ]
  },
  {
   "cell_type": "markdown",
   "id": "78bead83",
   "metadata": {
    "papermill": {
     "duration": 0.007438,
     "end_time": "2023-11-07T10:40:45.760308",
     "exception": false,
     "start_time": "2023-11-07T10:40:45.752870",
     "status": "completed"
    },
    "tags": []
   },
   "source": [
    "### What Are Distance Metrics\n",
    "- **Distance metrics are a key part of several machine learning algorithms.**\n",
    "- **These distance metrics are used in both supervised and unsupervised learning, generally to calculate the similarity between data points.**\n",
    "- **An effective distance metric improves the performance of our machine learning model, whether that’s for classification tasks or clustering.**."
   ]
  },
  {
   "cell_type": "markdown",
   "id": "3c467f1f",
   "metadata": {
    "papermill": {
     "duration": 0.00702,
     "end_time": "2023-11-07T10:40:45.774815",
     "exception": false,
     "start_time": "2023-11-07T10:40:45.767795",
     "status": "completed"
    },
    "tags": []
   },
   "source": [
    "### Types of Distance Metrics in Machine Learning\n",
    "- **Euclidean Distance**\n",
    "- **Manhattan Distance**\n",
    "- **Minkowski Distance**\n",
    "- **Chebyshev Distance**"
   ]
  },
  {
   "cell_type": "markdown",
   "id": "5244d576",
   "metadata": {
    "papermill": {
     "duration": 0.006981,
     "end_time": "2023-11-07T10:40:45.788984",
     "exception": false,
     "start_time": "2023-11-07T10:40:45.782003",
     "status": "completed"
    },
    "tags": []
   },
   "source": [
    "### 1️⃣ Euclidean Distance\n",
    "- **In coordinate geometry, Euclidean distance is defined as the distance between two points.**\n",
    "- **To find the distance between two points, the length of the line segment that connects the two points should be measured.**"
   ]
  },
  {
   "cell_type": "markdown",
   "id": "f82f00da",
   "metadata": {
    "papermill": {
     "duration": 0.007057,
     "end_time": "2023-11-07T10:40:45.803307",
     "exception": false,
     "start_time": "2023-11-07T10:40:45.796250",
     "status": "completed"
    },
    "tags": []
   },
   "source": [
    "### → Euclidean Distance Formula"
   ]
  },
  {
   "cell_type": "markdown",
   "id": "7d2c7491",
   "metadata": {
    "papermill": {
     "duration": 0.007232,
     "end_time": "2023-11-07T10:40:45.817853",
     "exception": false,
     "start_time": "2023-11-07T10:40:45.810621",
     "status": "completed"
    },
    "tags": []
   },
   "source": [
    "**Let us assume two points, such as `X = (x1,x2)` and `Y = (y1,y2)` in the two-dimensional coordinate plane, then Euclidean Distance between X and Y is**"
   ]
  },
  {
   "attachments": {
    "f1aeec37-6262-4c5f-befc-1f483898d0a9.jpg": {
     "image/jpeg": "[encoded data removed]"
    }
   },
   "cell_type": "markdown",
   "id": "4625445c",
   "metadata": {
    "papermill": {
     "duration": 0.0071,
     "end_time": "2023-11-07T10:40:45.832264",
     "exception": false,
     "start_time": "2023-11-07T10:40:45.825164",
     "status": "completed"
    },
    "tags": []
   },
   "source": [
    "![distanceformula.jpg](attachment:f1aeec37-6262-4c5f-befc-1f483898d0a9.jpg)"
   ]
  },
  {
   "cell_type": "markdown",
   "id": "3f695cb4",
   "metadata": {
    "papermill": {
     "duration": 0.007143,
     "end_time": "2023-11-07T10:40:45.846791",
     "exception": false,
     "start_time": "2023-11-07T10:40:45.839648",
     "status": "completed"
    },
    "tags": []
   },
   "source": [
    "### 🐍 Python Code"
   ]
  },
  {
   "cell_type": "markdown",
   "id": "70136591",
   "metadata": {
    "papermill": {
     "duration": 0.006956,
     "end_time": "2023-11-07T10:40:45.861136",
     "exception": false,
     "start_time": "2023-11-07T10:40:45.854180",
     "status": "completed"
    },
    "tags": []
   },
   "source": [
    "- **Distance from Origin**"
   ]
  },
  {
   "cell_type": "code",
   "execution_count": 1,
   "id": "759a1c6c",
   "metadata": {
    "execution": {
     "iopub.execute_input": "2023-11-07T10:40:45.878218Z",
     "iopub.status.busy": "2023-11-07T10:40:45.877712Z",
     "iopub.status.idle": "2023-11-07T10:40:47.043313Z",
     "shell.execute_reply": "2023-11-07T10:40:47.042300Z"
    },
    "papermill": {
     "duration": 1.177347,
     "end_time": "2023-11-07T10:40:47.045901",
     "exception": false,
     "start_time": "2023-11-07T10:40:45.868554",
     "status": "completed"
    },
    "tags": []
   },
   "outputs": [
    {
     "name": "stdout",
     "output_type": "stream",
     "text": [
      "[[ 7.34846923]\n",
      " [11.53256259]\n",
      " [ 9.89949494]]\n"
     ]
    }
   ],
   "source": [
    "# Importing Euclidean Distance\n",
    "from sklearn.metrics.pairwise import euclidean_distances\n",
    " \n",
    "# Importing NumPy Library\n",
    "import numpy as np  \n",
    "X = np.array([[2, 1, 7], \n",
    "              [6, 9, 4], \n",
    "              [5, 8, 3]])\n",
    " \n",
    "# Distance between X and Origin(0,0,0)\n",
    "distance = euclidean_distances(X, [[0, 0, 0]])\n",
    "print(distance)"
   ]
  },
  {
   "cell_type": "markdown",
   "id": "d9942a3b",
   "metadata": {
    "papermill": {
     "duration": 0.00714,
     "end_time": "2023-11-07T10:40:47.060676",
     "exception": false,
     "start_time": "2023-11-07T10:40:47.053536",
     "status": "completed"
    },
    "tags": []
   },
   "source": [
    "- **Distance between Points**"
   ]
  },
  {
   "cell_type": "code",
   "execution_count": 2,
   "id": "65a0533d",
   "metadata": {
    "execution": {
     "iopub.execute_input": "2023-11-07T10:40:47.077706Z",
     "iopub.status.busy": "2023-11-07T10:40:47.077154Z",
     "iopub.status.idle": "2023-11-07T10:40:47.086560Z",
     "shell.execute_reply": "2023-11-07T10:40:47.085786Z"
    },
    "papermill": {
     "duration": 0.020608,
     "end_time": "2023-11-07T10:40:47.088693",
     "exception": false,
     "start_time": "2023-11-07T10:40:47.068085",
     "status": "completed"
    },
    "tags": []
   },
   "outputs": [
    {
     "name": "stdout",
     "output_type": "stream",
     "text": [
      "[[2.44948974 8.06225775 8.06225775]\n",
      " [7.68114575 3.46410162 8.94427191]\n",
      " [6.63324958 1.73205081 7.68114575]]\n"
     ]
    }
   ],
   "source": [
    "# Importing Euclidean Distance\n",
    "from sklearn.metrics.pairwise import euclidean_distances\n",
    " \n",
    "# Importing NumPy Library\n",
    "import numpy as np  \n",
    "X = np.array([[2, 1, 7], \n",
    "              [6, 9, 4], \n",
    "              [5, 8, 3]])\n",
    "Y = np.array([[3, 2, 5], \n",
    "              [4, 7, 2],\n",
    "              [6, 1, 0]])\n",
    " \n",
    "# Distance between X and Y\n",
    "distance = euclidean_distances(X, Y)\n",
    "print(distance)"
   ]
  },
  {
   "cell_type": "markdown",
   "id": "31e3cac0",
   "metadata": {
    "papermill": {
     "duration": 0.0072,
     "end_time": "2023-11-07T10:40:47.103443",
     "exception": false,
     "start_time": "2023-11-07T10:40:47.096243",
     "status": "completed"
    },
    "tags": []
   },
   "source": [
    "### 2️⃣ Manhattan Distance\n",
    "- **In coordinate geometry, Manhattan distance is a distance metric between two points in an N-dimensional vector space.**\n",
    "- **It is defined as the sum of absolute distance between coordinates in corresponding dimensions.**"
   ]
  },
  {
   "cell_type": "markdown",
   "id": "728a131f",
   "metadata": {
    "papermill": {
     "duration": 0.00716,
     "end_time": "2023-11-07T10:40:47.118598",
     "exception": false,
     "start_time": "2023-11-07T10:40:47.111438",
     "status": "completed"
    },
    "tags": []
   },
   "source": [
    "### → Manhattan Distance Formula"
   ]
  },
  {
   "cell_type": "markdown",
   "id": "756bb349",
   "metadata": {
    "papermill": {
     "duration": 0.007434,
     "end_time": "2023-11-07T10:40:47.133561",
     "exception": false,
     "start_time": "2023-11-07T10:40:47.126127",
     "status": "completed"
    },
    "tags": []
   },
   "source": [
    "**Let us assume two points, such as `X = (x1,y1)` and `Y = (x2,y2)` in N-dimensional vector space, then Manhattan Distance between X and Y is**"
   ]
  },
  {
   "attachments": {
    "8ebbc37d-bb24-4f98-9efe-8443bcf3f78b.jpg": {
     "image/jpeg": "[encoded data removed]"
    }
   },
   "cell_type": "markdown",
   "id": "04658fc4",
   "metadata": {
    "papermill": {
     "duration": 0.007291,
     "end_time": "2023-11-07T10:40:47.148430",
     "exception": false,
     "start_time": "2023-11-07T10:40:47.141139",
     "status": "completed"
    },
    "tags": []
   },
   "source": [
    "![manhattan.jpg](attachment:8ebbc37d-bb24-4f98-9efe-8443bcf3f78b.jpg)"
   ]
  },
  {
   "cell_type": "markdown",
   "id": "c1efe7fa",
   "metadata": {
    "papermill": {
     "duration": 0.007197,
     "end_time": "2023-11-07T10:40:47.163275",
     "exception": false,
     "start_time": "2023-11-07T10:40:47.156078",
     "status": "completed"
    },
    "tags": []
   },
   "source": [
    "### 🐍 Python Code"
   ]
  },
  {
   "cell_type": "code",
   "execution_count": 3,
   "id": "98f09ecf",
   "metadata": {
    "execution": {
     "iopub.execute_input": "2023-11-07T10:40:47.180671Z",
     "iopub.status.busy": "2023-11-07T10:40:47.179652Z",
     "iopub.status.idle": "2023-11-07T10:40:47.186989Z",
     "shell.execute_reply": "2023-11-07T10:40:47.185701Z"
    },
    "papermill": {
     "duration": 0.018302,
     "end_time": "2023-11-07T10:40:47.189072",
     "exception": false,
     "start_time": "2023-11-07T10:40:47.170770",
     "status": "completed"
    },
    "tags": []
   },
   "outputs": [
    {
     "name": "stdout",
     "output_type": "stream",
     "text": [
      "[[ 4. 13. 11.]\n",
      " [11.  6. 12.]\n",
      " [10.  3. 11.]]\n"
     ]
    }
   ],
   "source": [
    "# Importing Manhattan Distance\n",
    "from sklearn.metrics.pairwise import manhattan_distances\n",
    " \n",
    "# Importing NumPy Library\n",
    "import numpy as np  \n",
    "X = np.array([[2, 1, 7], \n",
    "              [6, 9, 4], \n",
    "              [5, 8, 3]])\n",
    "Y = np.array([[3, 2, 5], \n",
    "              [4, 7, 2],\n",
    "              [6, 1, 0]])\n",
    " \n",
    "# Distance between X and Y\n",
    "distance = manhattan_distances(X, Y)\n",
    "print(distance)"
   ]
  },
  {
   "cell_type": "markdown",
   "id": "c94f9a43",
   "metadata": {
    "papermill": {
     "duration": 0.007455,
     "end_time": "2023-11-07T10:40:47.204331",
     "exception": false,
     "start_time": "2023-11-07T10:40:47.196876",
     "status": "completed"
    },
    "tags": []
   },
   "source": [
    "### 3️⃣ Minkowski Distance\n",
    "- **In coordinate geometry, Minkowski distance is a distance measured between two points in N-dimensional space.**\n",
    "- **It is basically a generalization of the Euclidean distance and the Manhattan distance.**"
   ]
  },
  {
   "cell_type": "markdown",
   "id": "dfdfdcc4",
   "metadata": {
    "papermill": {
     "duration": 0.007274,
     "end_time": "2023-11-07T10:40:47.219467",
     "exception": false,
     "start_time": "2023-11-07T10:40:47.212193",
     "status": "completed"
    },
    "tags": []
   },
   "source": [
    "### → Minkowski Distance Formula"
   ]
  },
  {
   "cell_type": "markdown",
   "id": "4ea81132",
   "metadata": {
    "papermill": {
     "duration": 0.007459,
     "end_time": "2023-11-07T10:40:47.234507",
     "exception": false,
     "start_time": "2023-11-07T10:40:47.227048",
     "status": "completed"
    },
    "tags": []
   },
   "source": [
    "**Let us assume two points, such as `X = (x1,y1)` and `Y = (x2,y2)` in 2-dimensional space and p is a parameter that determines the type of Minkowski distance to be calculated, then Minkowski Distance between X and Y is**"
   ]
  },
  {
   "attachments": {
    "331fb6de-0cd3-40c8-9437-3aab57eff63e.png": {
     "image/png": "[encoded data removed]"
    }
   },
   "cell_type": "markdown",
   "id": "29c6ca18",
   "metadata": {
    "papermill": {
     "duration": 0.007402,
     "end_time": "2023-11-07T10:40:47.250290",
     "exception": false,
     "start_time": "2023-11-07T10:40:47.242888",
     "status": "completed"
    },
    "tags": []
   },
   "source": [
    "![1_nxGbicBE1MSV4LbBFueJvg.png](attachment:331fb6de-0cd3-40c8-9437-3aab57eff63e.png)"
   ]
  },
  {
   "cell_type": "markdown",
   "id": "49f85695",
   "metadata": {
    "papermill": {
     "duration": 0.007819,
     "end_time": "2023-11-07T10:40:47.265827",
     "exception": false,
     "start_time": "2023-11-07T10:40:47.258008",
     "status": "completed"
    },
    "tags": []
   },
   "source": [
    "### → Note\n",
    "**The value of p determines which specific distance metric you are calculating :**\n",
    "- **When `p = 1`, you get the Manhattan distance, which is the sum of the absolute differences between corresponding coordinates also known as L1 distance.**\n",
    "- **When `p = 2`, you get the Euclidean distance, which is the straight-line distance between two points also known as L2 distance.**\n",
    "- **For other values of `p`, you get different variants of the Minkowski distance that may be useful for specific applications.**\n",
    "- **A higher `p` value makes the distance metric more sensitive to differences in larger coordinate values, while a lower `p` value makes it more sensitive to differences in smaller coordinate values.**"
   ]
  },
  {
   "cell_type": "markdown",
   "id": "2b5045db",
   "metadata": {
    "papermill": {
     "duration": 0.007599,
     "end_time": "2023-11-07T10:40:47.281433",
     "exception": false,
     "start_time": "2023-11-07T10:40:47.273834",
     "status": "completed"
    },
    "tags": []
   },
   "source": [
    "### 🐍 Python Code"
   ]
  },
  {
   "cell_type": "markdown",
   "id": "7bfe79d7",
   "metadata": {
    "papermill": {
     "duration": 0.007383,
     "end_time": "2023-11-07T10:40:47.296793",
     "exception": false,
     "start_time": "2023-11-07T10:40:47.289410",
     "status": "completed"
    },
    "tags": []
   },
   "source": [
    "- **For p=1**"
   ]
  },
  {
   "cell_type": "code",
   "execution_count": 4,
   "id": "6548dbe6",
   "metadata": {
    "execution": {
     "iopub.execute_input": "2023-11-07T10:40:47.314892Z",
     "iopub.status.busy": "2023-11-07T10:40:47.314129Z",
     "iopub.status.idle": "2023-11-07T10:40:47.321275Z",
     "shell.execute_reply": "2023-11-07T10:40:47.320245Z"
    },
    "papermill": {
     "duration": 0.018373,
     "end_time": "2023-11-07T10:40:47.323330",
     "exception": false,
     "start_time": "2023-11-07T10:40:47.304957",
     "status": "completed"
    },
    "tags": []
   },
   "outputs": [
    {
     "name": "stdout",
     "output_type": "stream",
     "text": [
      "[[4.]]\n"
     ]
    }
   ],
   "source": [
    "# Importing Pairwise Distance\n",
    "from sklearn.metrics import pairwise_distances\n",
    " \n",
    "# Importing NumPy Library\n",
    "import numpy as np  \n",
    "X = np.array([[2, 1, 7]])\n",
    "Y = np.array([[3, 2, 5]])\n",
    " \n",
    "# Distance between X and Y with Metric='minkowski' and p=1 ('Manhattan Distance')\n",
    "distance = pairwise_distances(X, Y, metric='minkowski', p=1)\n",
    "print(distance)"
   ]
  },
  {
   "cell_type": "markdown",
   "id": "f41bc133",
   "metadata": {
    "papermill": {
     "duration": 0.007701,
     "end_time": "2023-11-07T10:40:47.339248",
     "exception": false,
     "start_time": "2023-11-07T10:40:47.331547",
     "status": "completed"
    },
    "tags": []
   },
   "source": [
    "- **For p=2**"
   ]
  },
  {
   "cell_type": "code",
   "execution_count": 5,
   "id": "d03d0dbe",
   "metadata": {
    "execution": {
     "iopub.execute_input": "2023-11-07T10:40:47.357365Z",
     "iopub.status.busy": "2023-11-07T10:40:47.356648Z",
     "iopub.status.idle": "2023-11-07T10:40:47.363755Z",
     "shell.execute_reply": "2023-11-07T10:40:47.362546Z"
    },
    "papermill": {
     "duration": 0.018953,
     "end_time": "2023-11-07T10:40:47.365988",
     "exception": false,
     "start_time": "2023-11-07T10:40:47.347035",
     "status": "completed"
    },
    "tags": []
   },
   "outputs": [
    {
     "name": "stdout",
     "output_type": "stream",
     "text": [
      "[[2.44948974]]\n"
     ]
    }
   ],
   "source": [
    "# Importing Pairwise Distance\n",
    "from sklearn.metrics import pairwise_distances\n",
    " \n",
    "# Importing NumPy Library\n",
    "import numpy as np  \n",
    "X = np.array([[2, 1, 7]])\n",
    "Y = np.array([[3, 2, 5]])\n",
    " \n",
    "# Distance between X and Y with Metric='minkowski' and p=2 ('Euclidean Distance')\n",
    "distance = pairwise_distances(X, Y, metric='minkowski', p=2)\n",
    "print(distance)"
   ]
  },
  {
   "cell_type": "markdown",
   "id": "b712af3d",
   "metadata": {
    "papermill": {
     "duration": 0.007875,
     "end_time": "2023-11-07T10:40:47.381995",
     "exception": false,
     "start_time": "2023-11-07T10:40:47.374120",
     "status": "completed"
    },
    "tags": []
   },
   "source": [
    "- **For p=3**"
   ]
  },
  {
   "cell_type": "code",
   "execution_count": 6,
   "id": "fce3d6af",
   "metadata": {
    "execution": {
     "iopub.execute_input": "2023-11-07T10:40:47.400192Z",
     "iopub.status.busy": "2023-11-07T10:40:47.399828Z",
     "iopub.status.idle": "2023-11-07T10:40:47.406642Z",
     "shell.execute_reply": "2023-11-07T10:40:47.405549Z"
    },
    "papermill": {
     "duration": 0.019296,
     "end_time": "2023-11-07T10:40:47.409574",
     "exception": false,
     "start_time": "2023-11-07T10:40:47.390278",
     "status": "completed"
    },
    "tags": []
   },
   "outputs": [
    {
     "name": "stdout",
     "output_type": "stream",
     "text": [
      "[[2.15443469]]\n"
     ]
    }
   ],
   "source": [
    "# Importing Pairwise Distance\n",
    "from sklearn.metrics import pairwise_distances\n",
    " \n",
    "# Importing NumPy Library\n",
    "import numpy as np  \n",
    "X = np.array([[2, 1, 7]])\n",
    "Y = np.array([[3, 2, 5]])\n",
    " \n",
    "# Distance between X and Y with Metric='minkowski' and p=3 ('Custom Value')\n",
    "distance = pairwise_distances(X, Y, metric='minkowski', p=3)\n",
    "print(distance)"
   ]
  },
  {
   "cell_type": "markdown",
   "id": "ad6b57b7",
   "metadata": {
    "papermill": {
     "duration": 0.00769,
     "end_time": "2023-11-07T10:40:47.425362",
     "exception": false,
     "start_time": "2023-11-07T10:40:47.417672",
     "status": "completed"
    },
    "tags": []
   },
   "source": [
    "### 4️⃣ Chebyshev Distance\n",
    "- **In coordinate geometry, Chebyshev distance, also known as the L∞ (L-infinity) distance or the maximum metric.**\n",
    "- **Chebyshev distance is a way to measure the similarity or dissimilarity between two points in a multidimensional space.**\n",
    "- **It calculates the maximum difference between corresponding coordinates of the two points in each dimension.**"
   ]
  },
  {
   "cell_type": "markdown",
   "id": "97e3fd53",
   "metadata": {
    "papermill": {
     "duration": 0.007737,
     "end_time": "2023-11-07T10:40:47.441223",
     "exception": false,
     "start_time": "2023-11-07T10:40:47.433486",
     "status": "completed"
    },
    "tags": []
   },
   "source": [
    "### → Chebyshev Distance Formula"
   ]
  },
  {
   "cell_type": "markdown",
   "id": "52b1a08a",
   "metadata": {
    "papermill": {
     "duration": 0.065961,
     "end_time": "2023-11-07T10:40:47.515370",
     "exception": false,
     "start_time": "2023-11-07T10:40:47.449409",
     "status": "completed"
    },
    "tags": []
   },
   "source": [
    "**Let us assume two points, such as `X = (x1,x2,x3....,xn)` and `Y = (y1,y2,y3....,yn)` in multidimensional space, then Chebyshev Distance between X and Y is**"
   ]
  },
  {
   "attachments": {
    "767fa296-4b67-448e-8070-cdb9a72d8b64.png": {
     "image/png": "[encoded data removed]"
    }
   },
   "cell_type": "markdown",
   "id": "d20295a4",
   "metadata": {
    "papermill": {
     "duration": 0.00787,
     "end_time": "2023-11-07T10:40:47.531386",
     "exception": false,
     "start_time": "2023-11-07T10:40:47.523516",
     "status": "completed"
    },
    "tags": []
   },
   "source": [
    "![1_4S5tXzplxIQmElMT6Kueuw.png](attachment:767fa296-4b67-448e-8070-cdb9a72d8b64.png)"
   ]
  },
  {
   "cell_type": "markdown",
   "id": "390fd48c",
   "metadata": {
    "papermill": {
     "duration": 0.008789,
     "end_time": "2023-11-07T10:40:47.548223",
     "exception": false,
     "start_time": "2023-11-07T10:40:47.539434",
     "status": "completed"
    },
    "tags": []
   },
   "source": [
    "### 🐍 Python Code"
   ]
  },
  {
   "cell_type": "code",
   "execution_count": 7,
   "id": "31782265",
   "metadata": {
    "execution": {
     "iopub.execute_input": "2023-11-07T10:40:47.566944Z",
     "iopub.status.busy": "2023-11-07T10:40:47.566314Z",
     "iopub.status.idle": "2023-11-07T10:40:47.573308Z",
     "shell.execute_reply": "2023-11-07T10:40:47.572263Z"
    },
    "papermill": {
     "duration": 0.018639,
     "end_time": "2023-11-07T10:40:47.575294",
     "exception": false,
     "start_time": "2023-11-07T10:40:47.556655",
     "status": "completed"
    },
    "tags": []
   },
   "outputs": [
    {
     "name": "stdout",
     "output_type": "stream",
     "text": [
      "[[6.]]\n"
     ]
    }
   ],
   "source": [
    "# Importing Pairwise Distance\n",
    "from sklearn.metrics import pairwise_distances\n",
    " \n",
    "# Importing NumPy Library\n",
    "import numpy as np  \n",
    "X = np.array([[2, 5, 7]])\n",
    "Y = np.array([[3, 9, 1]])\n",
    " \n",
    "# Distance between X and Y with Metric='chebyshev'\n",
    "distance = pairwise_distances(X, Y, metric='chebyshev')\n",
    "print(distance)"
   ]
  }
 ],
 "metadata": {
  "kernelspec": {
   "display_name": "Python 3",
   "language": "python",
   "name": "python3"
  },
  "language_info": {
   "codemirror_mode": {
    "name": "ipython",
    "version": 3
   },
   "file_extension": ".py",
   "mimetype": "text/x-python",
   "name": "python",
   "nbconvert_exporter": "python",
   "pygments_lexer": "ipython3",
   "version": "3.10.12"
  },
  "papermill": {
   "default_parameters": {},
   "duration": 5.434779,
   "end_time": "2023-11-07T10:40:48.005191",
   "environment_variables": {},
   "exception": null,
   "input_path": "__notebook__.ipynb",
   "output_path": "__notebook__.ipynb",
   "parameters": {},
   "start_time": "2023-11-07T10:40:42.570412",
   "version": "2.4.0"
  }
 },
 "nbformat": 4,
 "nbformat_minor": 5
}
