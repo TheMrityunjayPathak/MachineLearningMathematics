{
 "cells": [
  {
   "cell_type": "markdown",
   "id": "5331f51b",
   "metadata": {
    "papermill": {
     "duration": 0.013987,
     "end_time": "2023-11-11T04:49:55.430763",
     "exception": false,
     "start_time": "2023-11-11T04:49:55.416776",
     "status": "completed"
    },
    "tags": []
   },
   "source": [
    "<div style=\"background-color:cadetblue; padding:5px; border-radius:8px;\"><h1 align=\"center\" style=\"color:white;\">Similarity Measures</h1></div>"
   ]
  },
  {
   "cell_type": "markdown",
   "id": "158e0e78",
   "metadata": {
    "papermill": {
     "duration": 0.014126,
     "end_time": "2023-11-11T04:49:55.458518",
     "exception": false,
     "start_time": "2023-11-11T04:49:55.444392",
     "status": "completed"
    },
    "tags": []
   },
   "source": [
    "### What is Similarity Measures? \n",
    "- **Similarity Measures play a crucial role in various machine learning tasks, including clustering, classification, recommendation systems, and more.**\n",
    "- **These measures quantify the similarity or dissimilarity between data points, allowing machine learning algorithms to make informed decisions.**\n",
    "- **Similarity Measure refers to distance with dimensions representing features of the data object, in a dataset.**\n",
    "- **If this distance is less, there will be a high degree of similarity, but when the distance is large, there will be a low degree of similarity.**"
   ]
  },
  {
   "cell_type": "markdown",
   "id": "4a067d40",
   "metadata": {
    "papermill": {
     "duration": 0.013619,
     "end_time": "2023-11-11T04:49:55.485845",
     "exception": false,
     "start_time": "2023-11-11T04:49:55.472226",
     "status": "completed"
    },
    "tags": []
   },
   "source": [
    "### Types of Similarity Measures in Machine Learning\n",
    "- **Cosine Similarity**\n",
    "- **Jaccard Similarity**\n",
    "- **Pearson Correlation Coefficient**\n",
    "- **Kendall Rank Correlation Coefficient**\n",
    "- **Spearman’s Rank Correlation Coefficient**"
   ]
  },
  {
   "cell_type": "markdown",
   "id": "32f5f3ef",
   "metadata": {
    "papermill": {
     "duration": 0.013123,
     "end_time": "2023-11-11T04:49:55.513726",
     "exception": false,
     "start_time": "2023-11-11T04:49:55.500603",
     "status": "completed"
    },
    "tags": []
   },
   "source": [
    "### 1️⃣ Cosine Similarity\n",
    "- **Cosine similarity is a mathematical measure used to determine how similar two sets of data are, typically in the context of text or document comparisons.**\n",
    "- **It calculates the cosine of the angle between two vectors, where each vector represents the term frequencies of words in a document or some other kind of data.**\n",
    "- **The closer the angle is to 0 degrees, the more similar the two vectors are, and therefore, the more similar the data sets are.**"
   ]
  },
  {
   "cell_type": "markdown",
   "id": "c43cadc3",
   "metadata": {
    "papermill": {
     "duration": 0.012499,
     "end_time": "2023-11-11T04:49:55.540648",
     "exception": false,
     "start_time": "2023-11-11T04:49:55.528149",
     "status": "completed"
    },
    "tags": []
   },
   "source": [
    "### → Cosine Similarity Formula\n",
    "- **You take two vectors, A and B, that represent your data.**\n",
    "- **Calculate the dot product of A and B.**\n",
    "- **Calculate the magnitude (length) of vectors A and B.**\n",
    "- **Divide the dot product by the product of the magnitudes to get the cosine similarity.**"
   ]
  },
  {
   "attachments": {
    "ae3b6d84-618b-443d-9b2e-07815002009d.png": {
     "image/png": "[encoded data removed]"
    }
   },
   "cell_type": "markdown",
   "id": "734cef78",
   "metadata": {
    "papermill": {
     "duration": 0.012805,
     "end_time": "2023-11-11T04:49:55.566306",
     "exception": false,
     "start_time": "2023-11-11T04:49:55.553501",
     "status": "completed"
    },
    "tags": []
   },
   "source": [
    "![cosine-similarity-formula-equivalent.png](attachment:ae3b6d84-618b-443d-9b2e-07815002009d.png)"
   ]
  },
  {
   "cell_type": "markdown",
   "id": "24f0c9a5",
   "metadata": {
    "papermill": {
     "duration": 0.014446,
     "end_time": "2023-11-11T04:49:55.594696",
     "exception": false,
     "start_time": "2023-11-11T04:49:55.580250",
     "status": "completed"
    },
    "tags": []
   },
   "source": [
    "### → Cosine Dissimilarity Formula\n",
    "`Dissimilarity(A,B) = 1- Similarity(A,B)`"
   ]
  },
  {
   "cell_type": "markdown",
   "id": "5d286e3f",
   "metadata": {
    "papermill": {
     "duration": 0.01403,
     "end_time": "2023-11-11T04:49:55.622118",
     "exception": false,
     "start_time": "2023-11-11T04:49:55.608088",
     "status": "completed"
    },
    "tags": []
   },
   "source": [
    "### Note\n",
    "- **The cosine similarity between two vectors is measured in ‘θ’.**\n",
    "- **If θ = 0°, the ‘x’ and ‘y’ vectors overlap, thus proving they are similar.**\n",
    "- **If θ = 90°, the ‘x’ and ‘y’ vectors are dissimilar.**"
   ]
  },
  {
   "cell_type": "markdown",
   "id": "42e2d9dc",
   "metadata": {
    "papermill": {
     "duration": 0.012596,
     "end_time": "2023-11-11T04:49:55.647772",
     "exception": false,
     "start_time": "2023-11-11T04:49:55.635176",
     "status": "completed"
    },
    "tags": []
   },
   "source": [
    "### 🐍 Python Code"
   ]
  },
  {
   "cell_type": "code",
   "execution_count": 1,
   "id": "6aad724e",
   "metadata": {
    "execution": {
     "iopub.execute_input": "2023-11-11T04:49:55.676805Z",
     "iopub.status.busy": "2023-11-11T04:49:55.676183Z",
     "iopub.status.idle": "2023-11-11T04:49:57.291335Z",
     "shell.execute_reply": "2023-11-11T04:49:57.289831Z"
    },
    "papermill": {
     "duration": 1.634271,
     "end_time": "2023-11-11T04:49:57.295536",
     "exception": false,
     "start_time": "2023-11-11T04:49:55.661265",
     "status": "completed"
    },
    "tags": []
   },
   "outputs": [
    {
     "name": "stdout",
     "output_type": "stream",
     "text": [
      "[[1.         0.5        0.40824829]\n",
      " [0.5        1.         0.        ]\n",
      " [0.40824829 0.         1.        ]]\n"
     ]
    }
   ],
   "source": [
    "from sklearn.feature_extraction.text import CountVectorizer\n",
    "from sklearn.metrics.pairwise import cosine_similarity\n",
    "\n",
    "# Sample Data\n",
    "documents = [\"I like apples\", \"I like bananas\", \"Apples are tasty\"]\n",
    "\n",
    "# Create a CountVectorizer to convert text to numerical vectors\n",
    "vectorizer = CountVectorizer().fit_transform(documents)\n",
    "\n",
    "# Calculate the cosine similarity matrix\n",
    "cosine_similarities = cosine_similarity(vectorizer)\n",
    "\n",
    "# Print the cosine similarity values\n",
    "print(cosine_similarities)"
   ]
  },
  {
   "cell_type": "markdown",
   "id": "57820d7e",
   "metadata": {
    "papermill": {
     "duration": 0.012992,
     "end_time": "2023-11-11T04:49:57.323665",
     "exception": false,
     "start_time": "2023-11-11T04:49:57.310673",
     "status": "completed"
    },
    "tags": []
   },
   "source": [
    "**Here's the meaning of each value in the matrix is :**\n",
    "\n",
    "- **The diagonal elements (when i = j) have a value of 1.0. This is because a document is perfectly similar to itself.**\n",
    "- **The off-diagonal elements represent the cosine similarity between two different documents.**\n",
    "    - **The cosine similarity between the first and second documents (\"I like apples\" and \"I like bananas\") is 0.5.**\n",
    "    - **The cosine similarity between the first and third documents is approximately 0.4.**\n",
    "    - **The cosine similarity between the second and third documents is approximately 0.**\n",
    "    - **These values indicate how similar the documents are to each other, with higher values indicating greater similarity.**\n",
    "    - **In this case, \"I like apples\" and \"I like bananas\" are more similar to each other than \"I like apples\" and \"Apples are tasty.\"**"
   ]
  },
  {
   "cell_type": "markdown",
   "id": "30e3c289",
   "metadata": {
    "papermill": {
     "duration": 0.013267,
     "end_time": "2023-11-11T04:49:57.351053",
     "exception": false,
     "start_time": "2023-11-11T04:49:57.337786",
     "status": "completed"
    },
    "tags": []
   },
   "source": [
    "---"
   ]
  },
  {
   "cell_type": "markdown",
   "id": "27d002ae",
   "metadata": {
    "papermill": {
     "duration": 0.012389,
     "end_time": "2023-11-11T04:49:57.376976",
     "exception": false,
     "start_time": "2023-11-11T04:49:57.364587",
     "status": "completed"
    },
    "tags": []
   },
   "source": [
    "### 2️⃣ Jaccard Similarity\n",
    "- **Jaccard similarity is a measure of similarity between two sets.**\n",
    "- **It is defined as the size of the intersection divided by the size of the union of the sets.**\n",
    "- **In simple terms, it calculates the proportion of common elements between two sets.**\n",
    "- **The Jaccard similarity score ranges from 0 to 1, where 0 means no similarity and 1 means the sets are identical.**"
   ]
  },
  {
   "cell_type": "markdown",
   "id": "9ceba6da",
   "metadata": {
    "papermill": {
     "duration": 0.013625,
     "end_time": "2023-11-11T04:49:57.405216",
     "exception": false,
     "start_time": "2023-11-11T04:49:57.391591",
     "status": "completed"
    },
    "tags": []
   },
   "source": [
    "### → Jaccard Similarity Formula\n",
    "- **We take two sets, A and B, that represent your data.**\n",
    "- **Convert them to lists because scikit-learn's jaccard_similarity_score function takes two arrays as input.**\n",
    "- **The function then calculates the Jaccard similarity between the two sets and prints the result.**"
   ]
  },
  {
   "attachments": {
    "ef02744d-226e-4b1a-8d46-c57811dfd746.png": {
     "image/png": "[encoded data removed]"
    }
   },
   "cell_type": "markdown",
   "id": "66786ced",
   "metadata": {
    "papermill": {
     "duration": 0.012556,
     "end_time": "2023-11-11T04:49:57.431352",
     "exception": false,
     "start_time": "2023-11-11T04:49:57.418796",
     "status": "completed"
    },
    "tags": []
   },
   "source": [
    "![0_76ONBI26Zn01gsvG.png](attachment:ef02744d-226e-4b1a-8d46-c57811dfd746.png)"
   ]
  },
  {
   "cell_type": "markdown",
   "id": "67e5a468",
   "metadata": {
    "papermill": {
     "duration": 0.014259,
     "end_time": "2023-11-11T04:49:57.460243",
     "exception": false,
     "start_time": "2023-11-11T04:49:57.445984",
     "status": "completed"
    },
    "tags": []
   },
   "source": [
    "### → Jaccard Distance Formula\n",
    "- **Jaccard distance is a measure of dissimilarity between two sets.**\n",
    "- **It is essentially the complement of the Jaccard similarity.**"
   ]
  },
  {
   "cell_type": "markdown",
   "id": "b26d56d2",
   "metadata": {
    "papermill": {
     "duration": 0.012652,
     "end_time": "2023-11-11T04:49:57.488072",
     "exception": false,
     "start_time": "2023-11-11T04:49:57.475420",
     "status": "completed"
    },
    "tags": []
   },
   "source": [
    "`J_distance = 1 - J_similarity(A,B)`"
   ]
  },
  {
   "cell_type": "markdown",
   "id": "bc5afb65",
   "metadata": {
    "papermill": {
     "duration": 0.012611,
     "end_time": "2023-11-11T04:49:57.513840",
     "exception": false,
     "start_time": "2023-11-11T04:49:57.501229",
     "status": "completed"
    },
    "tags": []
   },
   "source": [
    "### 🐍 Python Code"
   ]
  },
  {
   "cell_type": "code",
   "execution_count": 2,
   "id": "3e73017b",
   "metadata": {
    "execution": {
     "iopub.execute_input": "2023-11-11T04:49:57.545279Z",
     "iopub.status.busy": "2023-11-11T04:49:57.544770Z",
     "iopub.status.idle": "2023-11-11T04:49:57.565787Z",
     "shell.execute_reply": "2023-11-11T04:49:57.564486Z"
    },
    "papermill": {
     "duration": 0.041809,
     "end_time": "2023-11-11T04:49:57.569503",
     "exception": false,
     "start_time": "2023-11-11T04:49:57.527694",
     "status": "completed"
    },
    "tags": []
   },
   "outputs": [
    {
     "name": "stdout",
     "output_type": "stream",
     "text": [
      "Jaccard Similarity (Micro) : 0.3333333333333333\n",
      "Jaccard Similarity (Macro) : 0.4444444444444444\n",
      "Jaccard Similarity (Weight) : 0.41666666666666663\n",
      "Jaccard Similarity (None) : [1.         0.         0.33333333]\n"
     ]
    }
   ],
   "source": [
    "from sklearn.metrics import jaccard_score\n",
    "\n",
    "# Define two Array A and B\n",
    "A = [0, 2, 1, 2]\n",
    "B = [0, 1, 2, 2]\n",
    "\n",
    "# Calculate Jaccard similarity using scikit-learn\n",
    "jaccard_similarity_micro = jaccard_score(A, B, average='micro')\n",
    "jaccard_similarity_macro = jaccard_score(A, B, average='macro')\n",
    "jaccard_similarity_weight = jaccard_score(A, B, average='weighted')\n",
    "jaccard_similarity_none = jaccard_score(A, B, average=None)\n",
    "\n",
    "# Print the Jaccard Similarity Values\n",
    "print(f\"Jaccard Similarity (Micro) : {jaccard_similarity_micro}\")\n",
    "print(f\"Jaccard Similarity (Macro) : {jaccard_similarity_macro}\")\n",
    "print(f\"Jaccard Similarity (Weight) : {jaccard_similarity_weight}\")\n",
    "print(f\"Jaccard Similarity (None) : {jaccard_similarity_none}\")"
   ]
  },
  {
   "cell_type": "markdown",
   "id": "665d7f06",
   "metadata": {
    "papermill": {
     "duration": 0.01339,
     "end_time": "2023-11-11T04:49:57.597641",
     "exception": false,
     "start_time": "2023-11-11T04:49:57.584251",
     "status": "completed"
    },
    "tags": []
   },
   "source": [
    "### Note \n",
    "**In `jaccard_score` function, the `average` parameter determines how to compute the Jaccard similarity score when you have more than two sets or classes. The average parameter is relevant when you're dealing with multiclass or multilabel data.**\n",
    "\n",
    "**Here are the possible values for the average parameter:**\n",
    "\n",
    "- **None (default) :** ***This is the default setting. It computes the Jaccard similarity separately for each class or label. If you have multiple classes or labels, you will get an array of Jaccard similarity scores, one for each class.***\n",
    "\n",
    "- **'micro' :** ***It calculates the total true positives, false negatives, and false positives across all classes and then computes the Jaccard similarity. It treats the entire dataset as a single set.***\n",
    "\n",
    "- **'macro' :** ***It calculates the Jaccard similarity for each class independently and then takes the average. It doesn't consider class imbalances.***\n",
    "\n",
    "- **'weighted' :** ***It calculates the Jaccard similarity for each class independently, but it takes into account the number of true instances for each class. This is useful when you have imbalanced class distributions.***\n",
    "\n",
    "- **'binary' :** ***It calculates the Jaccard similarity only for the class specified by pos_label. This is applicable only if targets (A,B) are binary.***"
   ]
  },
  {
   "cell_type": "markdown",
   "id": "80376e11",
   "metadata": {
    "papermill": {
     "duration": 0.012863,
     "end_time": "2023-11-11T04:49:57.624106",
     "exception": false,
     "start_time": "2023-11-11T04:49:57.611243",
     "status": "completed"
    },
    "tags": []
   },
   "source": [
    "### pos_label\n",
    "- **The `pos_label` parameter determines if average='binary' and the data is binary.**"
   ]
  },
  {
   "cell_type": "markdown",
   "id": "f9881687",
   "metadata": {
    "papermill": {
     "duration": 0.01316,
     "end_time": "2023-11-11T04:49:57.650496",
     "exception": false,
     "start_time": "2023-11-11T04:49:57.637336",
     "status": "completed"
    },
    "tags": []
   },
   "source": [
    "---"
   ]
  },
  {
   "cell_type": "markdown",
   "id": "ef46a3ac",
   "metadata": {
    "papermill": {
     "duration": 0.014521,
     "end_time": "2023-11-11T04:49:57.681674",
     "exception": false,
     "start_time": "2023-11-11T04:49:57.667153",
     "status": "completed"
    },
    "tags": []
   },
   "source": [
    "### 3️⃣ Pearson Correlation Coefficient\n",
    "- **The Pearson correlation coefficient is a measure of the linear relationship between two variables.**\n",
    "- **It's denoted by the symbol \"r\" and takes values between -1 and 1.**\n",
    "- **A positive value indicates a positive correlation (as one variable increases, the other tends to increase), while a negative value indicates a negative correlation (as one variable increases, the other tends to decrease).**\n",
    "- **A value of 0 suggests no linear correlation.**"
   ]
  },
  {
   "cell_type": "markdown",
   "id": "59efa7cf",
   "metadata": {
    "papermill": {
     "duration": 0.013788,
     "end_time": "2023-11-11T04:49:57.808477",
     "exception": false,
     "start_time": "2023-11-11T04:49:57.794689",
     "status": "completed"
    },
    "tags": []
   },
   "source": [
    "### → Pearson Correlation Coefficient Formula\n",
    "- **We take 2 variables X and Y for calculation.**\n",
    "- **Let x<sub>i</sub> and y<sub>i</sub> be the individual data points.**\n",
    "- **And, $\\bar x$ and $\\bar y$ are means of variable x and y.**"
   ]
  },
  {
   "attachments": {
    "14acadc1-4dc6-4cc7-8b48-ca45140a1d3b.png": {
     "image/png": "[encoded data removed]"
    }
   },
   "cell_type": "markdown",
   "id": "90e3b179",
   "metadata": {
    "papermill": {
     "duration": 0.015144,
     "end_time": "2023-11-11T04:49:57.837039",
     "exception": false,
     "start_time": "2023-11-11T04:49:57.821895",
     "status": "completed"
    },
    "tags": []
   },
   "source": [
    "![download.png](attachment:14acadc1-4dc6-4cc7-8b48-ca45140a1d3b.png)"
   ]
  },
  {
   "cell_type": "markdown",
   "id": "0bfdc585",
   "metadata": {
    "papermill": {
     "duration": 0.014706,
     "end_time": "2023-11-11T04:49:57.866838",
     "exception": false,
     "start_time": "2023-11-11T04:49:57.852132",
     "status": "completed"
    },
    "tags": []
   },
   "source": [
    "### Note\n",
    "- **The interpretation of the Pearson’s correlation coefficient (r) is as follows :**\n",
    "    - **A correlation coefficient of  1 means there is a positive increase of a fixed proportion of others, for every positive increase in one variable.**\n",
    "    - **If the correlation coefficient is 0, it indicates that there is no relationship between the variables.**\n",
    "    - **A correlation coefficient of -1 means there is a negative decrease of a fixed proportion, for every positive increase in one variable.**"
   ]
  },
  {
   "cell_type": "markdown",
   "id": "2f2dab6a",
   "metadata": {
    "papermill": {
     "duration": 0.013826,
     "end_time": "2023-11-11T04:49:57.895627",
     "exception": false,
     "start_time": "2023-11-11T04:49:57.881801",
     "status": "completed"
    },
    "tags": []
   },
   "source": [
    "### 🐍 Python Code"
   ]
  },
  {
   "cell_type": "code",
   "execution_count": 3,
   "id": "9e7c6459",
   "metadata": {
    "execution": {
     "iopub.execute_input": "2023-11-11T04:49:57.929496Z",
     "iopub.status.busy": "2023-11-11T04:49:57.928424Z",
     "iopub.status.idle": "2023-11-11T04:49:58.509908Z",
     "shell.execute_reply": "2023-11-11T04:49:58.508556Z"
    },
    "papermill": {
     "duration": 0.603207,
     "end_time": "2023-11-11T04:49:58.513033",
     "exception": false,
     "start_time": "2023-11-11T04:49:57.909826",
     "status": "completed"
    },
    "tags": []
   },
   "outputs": [
    {
     "data": {
      "image/png": "[encoded data removed]",
      "text/plain": [
       "<Figure size 640x480 with 1 Axes>"
      ]
     },
     "metadata": {},
     "output_type": "display_data"
    }
   ],
   "source": [
    "from sklearn.feature_selection import r_regression\n",
    "from sklearn import preprocessing\n",
    "import numpy as np\n",
    "from matplotlib import pyplot as plt\n",
    "\n",
    "# Sample data\n",
    "X = np.array([5,9,14,16])\n",
    "Y = np.array([6,10,16,20])\n",
    "\n",
    "# Reshape data to 2D array\n",
    "X = X.reshape(-1, 1)\n",
    "\n",
    "# Standardize the data\n",
    "X = preprocessing.scale(X)\n",
    "Y = preprocessing.scale(Y)\n",
    "\n",
    "# Calculate the Pearson correlation coefficient\n",
    "correlation_coeff = r_regression(X, Y)\n",
    "\n",
    "# Plot the data to visualize the linearity of Data\n",
    "plt.plot(X,Y)\n",
    "plt.xlabel(\"X\")\n",
    "plt.ylabel(\"Y\")\n",
    "plt.title(f\"Pearson Correlation Coefficient for X and Y is {correlation_coeff}\")\n",
    "plt.show()"
   ]
  },
  {
   "cell_type": "markdown",
   "id": "27048204",
   "metadata": {
    "papermill": {
     "duration": 0.013452,
     "end_time": "2023-11-11T04:49:58.540531",
     "exception": false,
     "start_time": "2023-11-11T04:49:58.527079",
     "status": "completed"
    },
    "tags": []
   },
   "source": [
    "---"
   ]
  },
  {
   "cell_type": "markdown",
   "id": "1f2e7c9d",
   "metadata": {
    "papermill": {
     "duration": 0.014337,
     "end_time": "2023-11-11T04:49:58.569906",
     "exception": false,
     "start_time": "2023-11-11T04:49:58.555569",
     "status": "completed"
    },
    "tags": []
   },
   "source": [
    "### 4️⃣ Kendall Rank Correlation Coefficient\n",
    "- **The Kendall rank correlation coefficient, often denoted as Kendall's tau ($\\tau$), is a non-parametric measure of correlation between two ranked variables.**\n",
    "- **It measures the similarity of the orderings of the data when ranked by each of the variables.**\n",
    "- **The coefficient ranges from -1 to 1, where:**\n",
    "    - **($\\tau$ = 1), indicates a perfect positive relationship.**\n",
    "    - **($\\tau$ = -1), indicates a perfect negative relationship.**\n",
    "    - **($\\tau$ = 0), indicates no relationship.**"
   ]
  },
  {
   "cell_type": "markdown",
   "id": "29fa84c7",
   "metadata": {
    "papermill": {
     "duration": 0.014725,
     "end_time": "2023-11-11T04:49:58.600121",
     "exception": false,
     "start_time": "2023-11-11T04:49:58.585396",
     "status": "completed"
    },
    "tags": []
   },
   "source": [
    "### → Kendall Rank Correlation Coefficient Formula\n",
    "- **Here n<sub>c</sub> is Concordant Pair**\n",
    "    - **A pair of observations `(x1, y1)` and `(x2, y2)` that follows the property : `x1 > x2` and `y1 > y2` or `x1 < x2` and `y1 < y2`.**\n",
    "- **And, n<sub>d</sub> is Discordant Pair**\n",
    "    - **A pair of observations `(x1, y1)` and `(x2, y2)` that follows the property : `x1 > x2` and `y1 < y2` or `x1 < x2` and `y1 > y2`.**\n",
    "- **Lastly, n is Total number of samples.**"
   ]
  },
  {
   "attachments": {
    "b1ac7740-a9b1-47a5-b076-e16c165d95e8.jpg": {
     "image/jpeg": "[encoded data removed]"
    }
   },
   "cell_type": "markdown",
   "id": "a25f789e",
   "metadata": {
    "papermill": {
     "duration": 0.015366,
     "end_time": "2023-11-11T04:49:58.630552",
     "exception": false,
     "start_time": "2023-11-11T04:49:58.615186",
     "status": "completed"
    },
    "tags": []
   },
   "source": [
    "![ktau.jpg](attachment:b1ac7740-a9b1-47a5-b076-e16c165d95e8.jpg)"
   ]
  },
  {
   "cell_type": "markdown",
   "id": "07765545",
   "metadata": {
    "papermill": {
     "duration": 0.013727,
     "end_time": "2023-11-11T04:49:58.659408",
     "exception": false,
     "start_time": "2023-11-11T04:49:58.645681",
     "status": "completed"
    },
    "tags": []
   },
   "source": [
    "### Note\n",
    "- **The pair for which x1 = x2 and y1 = y2 are not classified as concordant or discordant and are ignored.**"
   ]
  },
  {
   "cell_type": "markdown",
   "id": "ce8b5825",
   "metadata": {
    "papermill": {
     "duration": 0.014401,
     "end_time": "2023-11-11T04:49:58.691592",
     "exception": false,
     "start_time": "2023-11-11T04:49:58.677191",
     "status": "completed"
    },
    "tags": []
   },
   "source": [
    "### 🐍 Python Code"
   ]
  },
  {
   "cell_type": "code",
   "execution_count": 4,
   "id": "0299abae",
   "metadata": {
    "execution": {
     "iopub.execute_input": "2023-11-11T04:49:58.725320Z",
     "iopub.status.busy": "2023-11-11T04:49:58.724529Z",
     "iopub.status.idle": "2023-11-11T04:49:58.734213Z",
     "shell.execute_reply": "2023-11-11T04:49:58.732794Z"
    },
    "papermill": {
     "duration": 0.029561,
     "end_time": "2023-11-11T04:49:58.736916",
     "exception": false,
     "start_time": "2023-11-11T04:49:58.707355",
     "status": "completed"
    },
    "tags": []
   },
   "outputs": [
    {
     "name": "stdout",
     "output_type": "stream",
     "text": [
      "Kendall Rank correlation : 0.4285714285714286\n"
     ]
    }
   ],
   "source": [
    "# Import required libraries \n",
    "from scipy.stats import kendalltau \n",
    "\n",
    "# Taking values in Lists \n",
    "X = [1, 2, 3, 4, 5, 6, 7] \n",
    "Y = [1, 3, 6, 2, 7, 4, 5] \n",
    "\n",
    "# Calculating Kendall Rank correlation \n",
    "corr = kendalltau(X, Y) \n",
    "print(f'Kendall Rank correlation : {corr[0]}') "
   ]
  },
  {
   "cell_type": "markdown",
   "id": "08b6de6a",
   "metadata": {
    "papermill": {
     "duration": 0.01432,
     "end_time": "2023-11-11T04:49:58.765497",
     "exception": false,
     "start_time": "2023-11-11T04:49:58.751177",
     "status": "completed"
    },
    "tags": []
   },
   "source": [
    "---"
   ]
  },
  {
   "cell_type": "markdown",
   "id": "72cc4c80",
   "metadata": {
    "papermill": {
     "duration": 0.014301,
     "end_time": "2023-11-11T04:49:58.794656",
     "exception": false,
     "start_time": "2023-11-11T04:49:58.780355",
     "status": "completed"
    },
    "tags": []
   },
   "source": [
    "### 5️⃣ Spearman’s Rank Correlation Coefficient\n",
    "- **Spearman's rank correlation coefficient is a non-parametric measure of statistical dependence between two variables.**\n",
    "- **It assesses how well the relationship between two variables can be described using a monotonic function.**\n",
    "- **The coefficient is based on the ranks of the data points rather than their actual values.**\n",
    "- **It ranges from -1 to 1, where :**\n",
    "    - **1 indicates a perfect positive monotonic relationship.**\n",
    "    - **-1 indicates a perfect negative monotonic relationship.**\n",
    "    - **0 indicates no monotonic relationship.**"
   ]
  },
  {
   "attachments": {
    "1f4385a2-fd4d-4b91-939a-40f206bcf99f.png": {
     "image/png": "[encoded data removed]"
    }
   },
   "cell_type": "markdown",
   "id": "701276ce",
   "metadata": {
    "papermill": {
     "duration": 0.015111,
     "end_time": "2023-11-11T04:49:58.824716",
     "exception": false,
     "start_time": "2023-11-11T04:49:58.809605",
     "status": "completed"
    },
    "tags": []
   },
   "source": [
    "### What Is Monotonic Function?\n",
    "- **To understand Spearman’s rank correlation, it is important to understand monotonic function.**\n",
    "- **A monotonic function is one that either never increases or never decreases as its independent variable changes.**\n",
    "### The following graph illustrates the monotonic function :\n",
    "\n",
    "![Spearman’s_Rank_Correlation_1.png](attachment:1f4385a2-fd4d-4b91-939a-40f206bcf99f.png)\n",
    "\n",
    "- **Monotonically Increasing : As the variable X increases, the variable Y never decreases.**\n",
    "- **Monotonically Decreasing : As the variable X increases, the variable Y never increases.**\n",
    "- **Not Monotonic : As the X variable increases, the Y variable sometimes decreases and sometimes increases.**"
   ]
  },
  {
   "cell_type": "markdown",
   "id": "ca49a5f9",
   "metadata": {
    "papermill": {
     "duration": 0.014846,
     "end_time": "2023-11-11T04:49:58.855569",
     "exception": false,
     "start_time": "2023-11-11T04:49:58.840723",
     "status": "completed"
    },
    "tags": []
   },
   "source": [
    "### → Spearman’s Rank Correlation Coefficient Formula\n",
    "- **Here, 𝝆 is Spearman’s rank correlation coefficient**\n",
    "- **And, d<sub>i</sub> is Difference between the two ranks of each observation**\n",
    "- **Lastly, n is Number of observations**"
   ]
  },
  {
   "attachments": {
    "54afb0d7-8e0c-4708-bad4-f65b44c58b51.png": {
     "image/png": "[encoded data removed]"
    }
   },
   "cell_type": "markdown",
   "id": "733dbf26",
   "metadata": {
    "papermill": {
     "duration": 0.014965,
     "end_time": "2023-11-11T04:49:58.885998",
     "exception": false,
     "start_time": "2023-11-11T04:49:58.871033",
     "status": "completed"
    },
    "tags": []
   },
   "source": [
    "![Spearman’s_Rank_Correlation_2.png](attachment:54afb0d7-8e0c-4708-bad4-f65b44c58b51.png)"
   ]
  },
  {
   "cell_type": "markdown",
   "id": "49244fb0",
   "metadata": {
    "papermill": {
     "duration": 0.013999,
     "end_time": "2023-11-11T04:49:58.917692",
     "exception": false,
     "start_time": "2023-11-11T04:49:58.903693",
     "status": "completed"
    },
    "tags": []
   },
   "source": [
    "### Note\n",
    "**The Spearman Rank Correlation can take a value from +1 to -1 where,**\n",
    "- **A value of +1 means a perfect association of rank.**\n",
    "- **A value of 0 means that there is no association between ranks.**\n",
    "- **A value of -1 means a perfect negative association of rank.**"
   ]
  },
  {
   "cell_type": "markdown",
   "id": "8fc6ee0b",
   "metadata": {
    "papermill": {
     "duration": 0.014947,
     "end_time": "2023-11-11T04:49:58.948285",
     "exception": false,
     "start_time": "2023-11-11T04:49:58.933338",
     "status": "completed"
    },
    "tags": []
   },
   "source": [
    "### 🐍 Python Code"
   ]
  },
  {
   "cell_type": "code",
   "execution_count": 5,
   "id": "224dc99c",
   "metadata": {
    "execution": {
     "iopub.execute_input": "2023-11-11T04:49:58.982090Z",
     "iopub.status.busy": "2023-11-11T04:49:58.981174Z",
     "iopub.status.idle": "2023-11-11T04:49:59.344250Z",
     "shell.execute_reply": "2023-11-11T04:49:59.342163Z"
    },
    "papermill": {
     "duration": 0.383918,
     "end_time": "2023-11-11T04:49:59.347837",
     "exception": false,
     "start_time": "2023-11-11T04:49:58.963919",
     "status": "completed"
    },
    "tags": []
   },
   "outputs": [
    {
     "data": {
      "image/png": "[encoded data removed]",
      "text/plain": [
       "<Figure size 640x480 with 1 Axes>"
      ]
     },
     "metadata": {},
     "output_type": "display_data"
    }
   ],
   "source": [
    "# Importing Libraries\n",
    "import numpy as np\n",
    "from scipy.stats import spearmanr\n",
    "from matplotlib import pyplot as plt\n",
    "\n",
    "# Sample data\n",
    "x = np.array([10, 20, 30, 40, 50])\n",
    "y = np.array([5, 15, 25, 35, 45])\n",
    "\n",
    "# Calculate Spearman's rank correlation coefficient\n",
    "rho = spearmanr(x, y)\n",
    "\n",
    "# Plotting Data to verify its nature (Monotonically Increasing, Monotonically Decreasing, Not Monotonic)\n",
    "plt.plot(x,y)\n",
    "plt.title(f\"Spearman's rank correlation coefficient: {rho[0]}\")\n",
    "plt.show()"
   ]
  }
 ],
 "metadata": {
  "kernelspec": {
   "display_name": "Python 3",
   "language": "python",
   "name": "python3"
  },
  "language_info": {
   "codemirror_mode": {
    "name": "ipython",
    "version": 3
   },
   "file_extension": ".py",
   "mimetype": "text/x-python",
   "name": "python",
   "nbconvert_exporter": "python",
   "pygments_lexer": "ipython3",
   "version": "3.10.12"
  },
  "papermill": {
   "default_parameters": {},
   "duration": 8.75801,
   "end_time": "2023-11-11T04:50:00.087219",
   "environment_variables": {},
   "exception": null,
   "input_path": "__notebook__.ipynb",
   "output_path": "__notebook__.ipynb",
   "parameters": {},
   "start_time": "2023-11-11T04:49:51.329209",
   "version": "2.4.0"
  }
 },
 "nbformat": 4,
 "nbformat_minor": 5
}
